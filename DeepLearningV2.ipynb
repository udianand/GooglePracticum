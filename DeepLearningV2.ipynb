{
 "cells": [
  {
   "cell_type": "code",
   "execution_count": 1,
   "metadata": {},
   "outputs": [
    {
     "name": "stderr",
     "output_type": "stream",
     "text": [
      "/Users/jegan/anaconda/lib/python3.6/site-packages/matplotlib/font_manager.py:280: UserWarning: Matplotlib is building the font cache using fc-list. This may take a moment.\n",
      "  'Matplotlib is building the font cache using fc-list. '\n"
     ]
    }
   ],
   "source": [
    "import numpy as np\n",
    "import pandas as pd\n",
    "import matplotlib.pyplot as plt\n",
    "\n",
    "import os\n",
    "import shutil\n",
    "import tensorflow as tf\n",
    "from sklearn.metrics import r2_score\n",
    "from sklearn.model_selection import train_test_split"
   ]
  },
  {
   "cell_type": "code",
   "execution_count": 2,
   "metadata": {},
   "outputs": [
    {
     "name": "stdout",
     "output_type": "stream",
     "text": [
      "/Users/jegan/workspace/Google3.0\n"
     ]
    }
   ],
   "source": [
    "cwd = os.getcwd()\n",
    "print(cwd)"
   ]
  },
  {
   "cell_type": "code",
   "execution_count": 3,
   "metadata": {},
   "outputs": [
    {
     "data": {
      "text/html": [
       "<div>\n",
       "<style>\n",
       "    .dataframe thead tr:only-child th {\n",
       "        text-align: right;\n",
       "    }\n",
       "\n",
       "    .dataframe thead th {\n",
       "        text-align: left;\n",
       "    }\n",
       "\n",
       "    .dataframe tbody tr th {\n",
       "        vertical-align: top;\n",
       "    }\n",
       "</style>\n",
       "<table border=\"1\" class=\"dataframe\">\n",
       "  <thead>\n",
       "    <tr style=\"text-align: right;\">\n",
       "      <th></th>\n",
       "      <th>STATE</th>\n",
       "      <th>YEAR</th>\n",
       "      <th>MONTH</th>\n",
       "      <th>TMP_HIGH</th>\n",
       "      <th>TMP_AVG</th>\n",
       "      <th>TMP_LOW</th>\n",
       "      <th>DP_HIGH</th>\n",
       "      <th>DP_AVG</th>\n",
       "      <th>DP_LOW</th>\n",
       "      <th>HUM_HIGH</th>\n",
       "      <th>...</th>\n",
       "      <th>VIS_LOW</th>\n",
       "      <th>WIND_HIGH</th>\n",
       "      <th>WIND_AVG</th>\n",
       "      <th>PRECIP</th>\n",
       "      <th>NUMDAY_RAIN</th>\n",
       "      <th>NUM_DAYS_SNOW</th>\n",
       "      <th>NUM_DAYS_FOG</th>\n",
       "      <th>NUM_DAYS_THNDRSTRM</th>\n",
       "      <th>PRICE</th>\n",
       "      <th>DISCOUNTED_PRICE</th>\n",
       "    </tr>\n",
       "  </thead>\n",
       "  <tbody>\n",
       "    <tr>\n",
       "      <th>0</th>\n",
       "      <td>IL</td>\n",
       "      <td>1986</td>\n",
       "      <td>1</td>\n",
       "      <td>55.953658</td>\n",
       "      <td>27.617217</td>\n",
       "      <td>-2.980925</td>\n",
       "      <td>42.880246</td>\n",
       "      <td>19.992262</td>\n",
       "      <td>-8.511984</td>\n",
       "      <td>99.026800</td>\n",
       "      <td>...</td>\n",
       "      <td>0.186718</td>\n",
       "      <td>29.600197</td>\n",
       "      <td>11.077783</td>\n",
       "      <td>0.479003</td>\n",
       "      <td>2.544772</td>\n",
       "      <td>7.584738</td>\n",
       "      <td>9.707042</td>\n",
       "      <td>0.000000</td>\n",
       "      <td>2.35</td>\n",
       "      <td>2.349417</td>\n",
       "    </tr>\n",
       "    <tr>\n",
       "      <th>1</th>\n",
       "      <td>IL</td>\n",
       "      <td>1986</td>\n",
       "      <td>2</td>\n",
       "      <td>53.838886</td>\n",
       "      <td>28.731112</td>\n",
       "      <td>0.353638</td>\n",
       "      <td>46.537659</td>\n",
       "      <td>23.958440</td>\n",
       "      <td>-4.555208</td>\n",
       "      <td>99.510367</td>\n",
       "      <td>...</td>\n",
       "      <td>0.109089</td>\n",
       "      <td>24.679482</td>\n",
       "      <td>9.622850</td>\n",
       "      <td>1.722515</td>\n",
       "      <td>5.510271</td>\n",
       "      <td>9.231277</td>\n",
       "      <td>15.203328</td>\n",
       "      <td>0.658457</td>\n",
       "      <td>2.38</td>\n",
       "      <td>2.379410</td>\n",
       "    </tr>\n",
       "    <tr>\n",
       "      <th>2</th>\n",
       "      <td>IL</td>\n",
       "      <td>1986</td>\n",
       "      <td>3</td>\n",
       "      <td>77.668458</td>\n",
       "      <td>41.937001</td>\n",
       "      <td>13.926317</td>\n",
       "      <td>51.205991</td>\n",
       "      <td>29.862688</td>\n",
       "      <td>2.748564</td>\n",
       "      <td>99.138166</td>\n",
       "      <td>...</td>\n",
       "      <td>0.634101</td>\n",
       "      <td>36.374250</td>\n",
       "      <td>12.349509</td>\n",
       "      <td>15.116988</td>\n",
       "      <td>5.934169</td>\n",
       "      <td>3.868506</td>\n",
       "      <td>9.890731</td>\n",
       "      <td>1.055313</td>\n",
       "      <td>2.35</td>\n",
       "      <td>2.349417</td>\n",
       "    </tr>\n",
       "    <tr>\n",
       "      <th>3</th>\n",
       "      <td>IL</td>\n",
       "      <td>1986</td>\n",
       "      <td>4</td>\n",
       "      <td>85.651529</td>\n",
       "      <td>52.949283</td>\n",
       "      <td>25.351909</td>\n",
       "      <td>60.274139</td>\n",
       "      <td>37.049373</td>\n",
       "      <td>11.479874</td>\n",
       "      <td>99.558871</td>\n",
       "      <td>...</td>\n",
       "      <td>0.474198</td>\n",
       "      <td>28.918771</td>\n",
       "      <td>10.770362</td>\n",
       "      <td>17.947352</td>\n",
       "      <td>9.195066</td>\n",
       "      <td>1.960945</td>\n",
       "      <td>7.611098</td>\n",
       "      <td>2.058521</td>\n",
       "      <td>2.34</td>\n",
       "      <td>2.339420</td>\n",
       "    </tr>\n",
       "    <tr>\n",
       "      <th>4</th>\n",
       "      <td>IL</td>\n",
       "      <td>1986</td>\n",
       "      <td>5</td>\n",
       "      <td>85.415668</td>\n",
       "      <td>62.338688</td>\n",
       "      <td>36.602102</td>\n",
       "      <td>61.467698</td>\n",
       "      <td>47.555928</td>\n",
       "      <td>27.795232</td>\n",
       "      <td>95.246992</td>\n",
       "      <td>...</td>\n",
       "      <td>0.280723</td>\n",
       "      <td>33.072546</td>\n",
       "      <td>8.983943</td>\n",
       "      <td>15.212715</td>\n",
       "      <td>9.610446</td>\n",
       "      <td>0.327268</td>\n",
       "      <td>14.161837</td>\n",
       "      <td>4.663441</td>\n",
       "      <td>2.45</td>\n",
       "      <td>2.449393</td>\n",
       "    </tr>\n",
       "  </tbody>\n",
       "</table>\n",
       "<p>5 rows × 27 columns</p>\n",
       "</div>"
      ],
      "text/plain": [
       "  STATE  YEAR  MONTH   TMP_HIGH    TMP_AVG    TMP_LOW    DP_HIGH     DP_AVG  \\\n",
       "0    IL  1986      1  55.953658  27.617217  -2.980925  42.880246  19.992262   \n",
       "1    IL  1986      2  53.838886  28.731112   0.353638  46.537659  23.958440   \n",
       "2    IL  1986      3  77.668458  41.937001  13.926317  51.205991  29.862688   \n",
       "3    IL  1986      4  85.651529  52.949283  25.351909  60.274139  37.049373   \n",
       "4    IL  1986      5  85.415668  62.338688  36.602102  61.467698  47.555928   \n",
       "\n",
       "      DP_LOW   HUM_HIGH        ...          VIS_LOW  WIND_HIGH   WIND_AVG  \\\n",
       "0  -8.511984  99.026800        ...         0.186718  29.600197  11.077783   \n",
       "1  -4.555208  99.510367        ...         0.109089  24.679482   9.622850   \n",
       "2   2.748564  99.138166        ...         0.634101  36.374250  12.349509   \n",
       "3  11.479874  99.558871        ...         0.474198  28.918771  10.770362   \n",
       "4  27.795232  95.246992        ...         0.280723  33.072546   8.983943   \n",
       "\n",
       "      PRECIP  NUMDAY_RAIN  NUM_DAYS_SNOW  NUM_DAYS_FOG  NUM_DAYS_THNDRSTRM  \\\n",
       "0   0.479003     2.544772       7.584738      9.707042            0.000000   \n",
       "1   1.722515     5.510271       9.231277     15.203328            0.658457   \n",
       "2  15.116988     5.934169       3.868506      9.890731            1.055313   \n",
       "3  17.947352     9.195066       1.960945      7.611098            2.058521   \n",
       "4  15.212715     9.610446       0.327268     14.161837            4.663441   \n",
       "\n",
       "   PRICE  DISCOUNTED_PRICE  \n",
       "0   2.35          2.349417  \n",
       "1   2.38          2.379410  \n",
       "2   2.35          2.349417  \n",
       "3   2.34          2.339420  \n",
       "4   2.45          2.449393  \n",
       "\n",
       "[5 rows x 27 columns]"
      ]
     },
     "execution_count": 3,
     "metadata": {},
     "output_type": "execute_result"
    }
   ],
   "source": [
    "lnn =  pd.read_csv('final_input.csv')\n",
    "\n",
    "lnn =  pd.read_csv('final_input.csv')\n",
    "#rename UNNAMED:0 to INDEX\n",
    "lnn.rename(columns={'Unnamed: 0': 'INDEX'}, inplace=True)\n",
    "\n",
    "# drop UNNAMED:0.1\n",
    "lnn = lnn.drop('INDEX', axis=1)\n",
    "\n",
    "month_dict = {'JAN' : 1,\n",
    "        'FEB' : 2,\n",
    "        'MAR' : 3,\n",
    "        'ARP' : 4, #whoops\n",
    "        'MAY' : 5,\n",
    "        'JUN' : 6,\n",
    "        'JUL' : 7,\n",
    "        'AUG' : 8,\n",
    "        'SEP' : 9, \n",
    "        'OCT' : 10,\n",
    "        'NOV' : 11,\n",
    "        'DEC' : 12}\n",
    "\n",
    "# convert months to numerical\n",
    "from time import strptime\n",
    "lnn['MONTH'] = lnn['MONTH'].apply(lambda x: month_dict[x])\n",
    "\n",
    "lnn.head()"
   ]
  },
  {
   "cell_type": "code",
   "execution_count": 111,
   "metadata": {
    "collapsed": true
   },
   "outputs": [],
   "source": [
    "x_train, x_test, y_train, y_test = train_test_split(lnn.iloc[:,2:25], lnn.iloc[:,26], test_size=0.2)"
   ]
  },
  {
   "cell_type": "code",
   "execution_count": 5,
   "metadata": {},
   "outputs": [
    {
     "name": "stdout",
     "output_type": "stream",
     "text": [
      "Just using average=2.990190636112074 has RMSE of 1.2313843379890743\n"
     ]
    }
   ],
   "source": [
    "trainsize = int(len(y_train) * 0.8)\n",
    "avg = np.mean(y_train[:trainsize])\n",
    "rmse = np.sqrt(np.mean((y_train[trainsize:] - avg)**2))\n",
    "print('Just using average={0} has RMSE of {1}'.format(avg, rmse))"
   ]
  },
  {
   "cell_type": "code",
   "execution_count": 36,
   "metadata": {},
   "outputs": [
    {
     "name": "stdout",
     "output_type": "stream",
     "text": [
      "WARNING:tensorflow:float64 is not supported by many models, consider casting to float32.\n",
      "starting to train ... this will take a while ...\n",
      "WARNING:tensorflow:From /Users/jegan/anaconda/lib/python3.6/site-packages/tensorflow/contrib/learn/python/learn/estimators/head.py:625: scalar_summary (from tensorflow.python.ops.logging_ops) is deprecated and will be removed after 2016-11-30.\n",
      "Instructions for updating:\n",
      "Please switch to tf.summary.scalar. Note that tf.summary.scalar uses the node name instead of the tag. This means that TensorFlow will automatically de-duplicate summary names based on the scope they are created in. Also, passing a tensor or list of tags to a scalar summary op is no longer supported.\n",
      "WARNING:tensorflow:From /Users/jegan/anaconda/lib/python3.6/site-packages/tensorflow/python/util/deprecation.py:347: calling LinearRegressor.predict (from tensorflow.contrib.learn.python.learn.estimators.linear) with outputs=None is deprecated and will be removed after 2017-03-01.\n",
      "Instructions for updating:\n",
      "Please switch to predict_scores, or set `outputs` argument.\n",
      "WARNING:tensorflow:From /Users/jegan/anaconda/lib/python3.6/site-packages/tensorflow/contrib/learn/python/learn/estimators/linear.py:832: calling BaseEstimator.predict (from tensorflow.contrib.learn.python.learn.estimators.estimator) with x is deprecated and will be removed after 2016-12-01.\n",
      "Instructions for updating:\n",
      "Estimator is decoupled from Scikit Learn interface by moving into\n",
      "separate class SKCompat. Arguments x, y and batch_size are only\n",
      "available in the SKCompat class, Estimator will only accept input_fn.\n",
      "Example conversion:\n",
      "  est = Estimator(...) -> est = SKCompat(Estimator(...))\n",
      "WARNING:tensorflow:float64 is not supported by many models, consider casting to float32.\n",
      "LinearRegression has RMSE of 1.0873111383816239\n"
     ]
    }
   ],
   "source": [
    "trainsize = int(len(y_train) * 0.8)\n",
    "testsize = len(y_train) - trainsize\n",
    "npredictors = len(x_train.columns)\n",
    "noutputs = 1\n",
    "shutil.rmtree('./trained_model_linear', ignore_errors=True) # so that we don't load weights from previous runs\n",
    "estimator = tf.contrib.learn.LinearRegressor(model_dir='./trained_model_linear',\n",
    "                                             feature_columns=tf.contrib.learn.infer_real_valued_columns_from_input(x_train.values))\n",
    "\n",
    "print(\"starting to train ... this will take a while ...\")\n",
    "def input_fn(features, y_train):\n",
    "  return tf.constant(features.values), tf.constant(y_train.values.reshape(len(y_train), noutputs))\n",
    "estimator.fit(input_fn=lambda: input_fn(x_train[:trainsize], y_train[:trainsize]), steps=100000)\n",
    "\n",
    "pred = list(estimator.predict(x_train[trainsize:].values))\n",
    "rmse = np.sqrt(np.mean(np.power((y_train[trainsize:].values - pred), 2)))\n",
    "print('LinearRegression has RMSE of {0}'.format(rmse))"
   ]
  },
  {
   "cell_type": "code",
   "execution_count": 40,
   "metadata": {},
   "outputs": [
    {
     "data": {
      "text/plain": [
       "0.21998455257571436"
      ]
     },
     "execution_count": 40,
     "metadata": {},
     "output_type": "execute_result"
    }
   ],
   "source": [
    "r2_score(y_train[trainsize:].values,pred)"
   ]
  },
  {
   "cell_type": "code",
   "execution_count": 41,
   "metadata": {},
   "outputs": [
    {
     "name": "stdout",
     "output_type": "stream",
     "text": [
      "WARNING:tensorflow:float64 is not supported by many models, consider casting to float32.\n",
      "starting to train ... this will take a while ...\n",
      "WARNING:tensorflow:From /Users/jegan/anaconda/lib/python3.6/site-packages/tensorflow/contrib/learn/python/learn/estimators/head.py:625: scalar_summary (from tensorflow.python.ops.logging_ops) is deprecated and will be removed after 2016-11-30.\n",
      "Instructions for updating:\n",
      "Please switch to tf.summary.scalar. Note that tf.summary.scalar uses the node name instead of the tag. This means that TensorFlow will automatically de-duplicate summary names based on the scope they are created in. Also, passing a tensor or list of tags to a scalar summary op is no longer supported.\n",
      "WARNING:tensorflow:From /Users/jegan/anaconda/lib/python3.6/site-packages/tensorflow/python/util/deprecation.py:347: calling DNNRegressor.predict (from tensorflow.contrib.learn.python.learn.estimators.dnn) with outputs=None is deprecated and will be removed after 2017-03-01.\n",
      "Instructions for updating:\n",
      "Please switch to predict_scores, or set `outputs` argument.\n",
      "WARNING:tensorflow:From /Users/jegan/anaconda/lib/python3.6/site-packages/tensorflow/contrib/learn/python/learn/estimators/dnn.py:744: calling BaseEstimator.predict (from tensorflow.contrib.learn.python.learn.estimators.estimator) with x is deprecated and will be removed after 2016-12-01.\n",
      "Instructions for updating:\n",
      "Estimator is decoupled from Scikit Learn interface by moving into\n",
      "separate class SKCompat. Arguments x, y and batch_size are only\n",
      "available in the SKCompat class, Estimator will only accept input_fn.\n",
      "Example conversion:\n",
      "  est = Estimator(...) -> est = SKCompat(Estimator(...))\n",
      "WARNING:tensorflow:float64 is not supported by many models, consider casting to float32.\n",
      "Neural Network Regression has RMSE of 1.2308321597202898\n"
     ]
    }
   ],
   "source": [
    "trainsize = int(len(y_train) * 0.8)\n",
    "testsize = len(y_train) - trainsize\n",
    "npredictors = len(x_train.columns)\n",
    "noutputs = 1\n",
    "tf.logging.set_verbosity(tf.logging.WARN) # change to INFO to get output every 100 steps ...\n",
    "shutil.rmtree('./trained_model', ignore_errors=True) # so that we don't load weights from previous runs\n",
    "estimator = tf.contrib.learn.DNNRegressor(model_dir='./trained_model',\n",
    "                                          hidden_units=[3, 3],                             \n",
    "                                          feature_columns=tf.contrib.learn.infer_real_valued_columns_from_input(x_train.values))\n",
    "\n",
    "print(\"starting to train ... this will take a while ...\")\n",
    "def input_fn(features, y_train):\n",
    "  return tf.constant(features.values), tf.constant(y_train.values.reshape(len(y_train), noutputs))\n",
    "estimator.fit(input_fn=lambda: input_fn(x_train[:trainsize], y_train[:trainsize]), steps=100000)\n",
    "\n",
    "pred = list(estimator.predict(x_train[trainsize:].values))\n",
    "rmse = np.sqrt(np.mean(np.power((y_train[trainsize:].values - pred), 2)))\n",
    "print('Neural Network Regression has RMSE of {0}'.format(rmse))"
   ]
  },
  {
   "cell_type": "code",
   "execution_count": 42,
   "metadata": {},
   "outputs": [
    {
     "data": {
      "text/plain": [
       "0.00047606134964406355"
      ]
     },
     "execution_count": 42,
     "metadata": {},
     "output_type": "execute_result"
    }
   ],
   "source": [
    "r2_score(y_train[trainsize:].values,pred)"
   ]
  },
  {
   "cell_type": "code",
   "execution_count": 55,
   "metadata": {},
   "outputs": [
    {
     "name": "stdout",
     "output_type": "stream",
     "text": [
      "WARNING:tensorflow:float64 is not supported by many models, consider casting to float32.\n",
      "WARNING:tensorflow:float64 is not supported by many models, consider casting to float32.\n",
      "WARNING:tensorflow:From <ipython-input-55-ddf181df8308>:9: calling DNNLinearCombinedRegressor.__init__ (from tensorflow.contrib.learn.python.learn.estimators.dnn_linear_combined) with fix_global_step_increment_bug=False is deprecated and will be removed after 2017-04-15.\n",
      "Instructions for updating:\n",
      "Please set fix_global_step_increment_bug=True and update training steps in your pipeline. See pydoc for details.\n",
      "starting to train ... this will take a while ...\n",
      "WARNING:tensorflow:From /Users/jegan/anaconda/lib/python3.6/site-packages/tensorflow/contrib/learn/python/learn/estimators/head.py:625: scalar_summary (from tensorflow.python.ops.logging_ops) is deprecated and will be removed after 2016-11-30.\n",
      "Instructions for updating:\n",
      "Please switch to tf.summary.scalar. Note that tf.summary.scalar uses the node name instead of the tag. This means that TensorFlow will automatically de-duplicate summary names based on the scope they are created in. Also, passing a tensor or list of tags to a scalar summary op is no longer supported.\n",
      "WARNING:tensorflow:From /Users/jegan/anaconda/lib/python3.6/site-packages/tensorflow/python/util/deprecation.py:347: calling DNNLinearCombinedRegressor.predict (from tensorflow.contrib.learn.python.learn.estimators.dnn_linear_combined) with outputs=None is deprecated and will be removed after 2017-03-01.\n",
      "Instructions for updating:\n",
      "Please switch to predict_scores, or set `outputs` argument.\n",
      "WARNING:tensorflow:From /Users/jegan/anaconda/lib/python3.6/site-packages/tensorflow/contrib/learn/python/learn/estimators/dnn_linear_combined.py:1121: calling BaseEstimator.predict (from tensorflow.contrib.learn.python.learn.estimators.estimator) with x is deprecated and will be removed after 2016-12-01.\n",
      "Instructions for updating:\n",
      "Estimator is decoupled from Scikit Learn interface by moving into\n",
      "separate class SKCompat. Arguments x, y and batch_size are only\n",
      "available in the SKCompat class, Estimator will only accept input_fn.\n",
      "Example conversion:\n",
      "  est = Estimator(...) -> est = SKCompat(Estimator(...))\n",
      "WARNING:tensorflow:float64 is not supported by many models, consider casting to float32.\n",
      "DNN+Linear has RMSE of 1.0860236020072753\n"
     ]
    }
   ],
   "source": [
    "trainsize = int(len(y_train) * 0.8)\n",
    "testsize = len(y_train) - trainsize\n",
    "npredictors = len(x_train.columns)\n",
    "noutputs = 1\n",
    "shutil.rmtree('./trained_model_comb', ignore_errors=True) # so that we don't load weights from previous runs\n",
    "estimator = tf.contrib.learn.DNNLinearCombinedRegressor(model_dir='./trained_model_comb',                           \n",
    "                                          linear_feature_columns=tf.contrib.learn.infer_real_valued_columns_from_input(x_train.values),\n",
    "                                          dnn_hidden_units = [3,3],\n",
    "                                          dnn_feature_columns=tf.contrib.learn.infer_real_valued_columns_from_input(x_train.values))\n",
    "\n",
    "print(\"starting to train ... this will take a while ...\")\n",
    "def input_fn(features, y_train):\n",
    "  return tf.constant(features.values), tf.constant(y_train.values.reshape(len(y_train), noutputs))\n",
    "estimator.fit(input_fn=lambda: input_fn(x_train[:trainsize], y_train[:trainsize]), steps=1000000)\n",
    "\n",
    "pred = list(estimator.predict(x_train[trainsize:].values))\n",
    "rmse = np.sqrt(np.mean(np.power((y_train[trainsize:].values - pred), 2)))\n",
    "print('DNN+Linear has RMSE of {0}'.format(rmse))"
   ]
  },
  {
   "cell_type": "code",
   "execution_count": 57,
   "metadata": {},
   "outputs": [
    {
     "data": {
      "text/plain": [
       "0.22183076495637633"
      ]
     },
     "execution_count": 57,
     "metadata": {},
     "output_type": "execute_result"
    }
   ],
   "source": [
    "r2_score(y_train[trainsize:].values,pred)"
   ]
  },
  {
   "cell_type": "code",
   "execution_count": 112,
   "metadata": {
    "scrolled": false
   },
   "outputs": [
    {
     "ename": "TypeError",
     "evalue": "Tensors in list passed to 'values' of 'ConcatV2' Op have types [float64, float64, float64, float64, float64, float64, float32, float64, float64, float64, float64, float64, float64, float64, float64, float64, float64, float64, float64, float64, float64, float64, float64] that don't all match.",
     "output_type": "error",
     "traceback": [
      "\u001b[0;31m---------------------------------------------------------------------------\u001b[0m",
      "\u001b[0;31mValueError\u001b[0m                                Traceback (most recent call last)",
      "\u001b[0;32m/Users/jegan/anaconda/lib/python3.6/site-packages/tensorflow/python/framework/op_def_library.py\u001b[0m in \u001b[0;36mapply_op\u001b[0;34m(self, op_type_name, name, **keywords)\u001b[0m\n\u001b[1;32m    434\u001b[0m                 \u001b[0mpreferred_dtype\u001b[0m\u001b[0;34m=\u001b[0m\u001b[0mdefault_dtype\u001b[0m\u001b[0;34m,\u001b[0m\u001b[0;34m\u001b[0m\u001b[0m\n\u001b[0;32m--> 435\u001b[0;31m                 as_ref=input_arg.is_ref)\n\u001b[0m\u001b[1;32m    436\u001b[0m             if input_arg.number_attr and len(\n",
      "\u001b[0;32m/Users/jegan/anaconda/lib/python3.6/site-packages/tensorflow/python/framework/ops.py\u001b[0m in \u001b[0;36minternal_convert_n_to_tensor\u001b[0;34m(values, dtype, name, as_ref, preferred_dtype)\u001b[0m\n\u001b[1;32m    801\u001b[0m             \u001b[0mas_ref\u001b[0m\u001b[0;34m=\u001b[0m\u001b[0mas_ref\u001b[0m\u001b[0;34m,\u001b[0m\u001b[0;34m\u001b[0m\u001b[0m\n\u001b[0;32m--> 802\u001b[0;31m             preferred_dtype=preferred_dtype))\n\u001b[0m\u001b[1;32m    803\u001b[0m   \u001b[0;32mreturn\u001b[0m \u001b[0mret\u001b[0m\u001b[0;34m\u001b[0m\u001b[0m\n",
      "\u001b[0;32m/Users/jegan/anaconda/lib/python3.6/site-packages/tensorflow/python/framework/ops.py\u001b[0m in \u001b[0;36minternal_convert_to_tensor\u001b[0;34m(value, dtype, name, as_ref, preferred_dtype)\u001b[0m\n\u001b[1;32m    740\u001b[0m         \u001b[0;32mif\u001b[0m \u001b[0mret\u001b[0m \u001b[0;32mis\u001b[0m \u001b[0;32mNone\u001b[0m\u001b[0;34m:\u001b[0m\u001b[0;34m\u001b[0m\u001b[0m\n\u001b[0;32m--> 741\u001b[0;31m           \u001b[0mret\u001b[0m \u001b[0;34m=\u001b[0m \u001b[0mconversion_func\u001b[0m\u001b[0;34m(\u001b[0m\u001b[0mvalue\u001b[0m\u001b[0;34m,\u001b[0m \u001b[0mdtype\u001b[0m\u001b[0;34m=\u001b[0m\u001b[0mdtype\u001b[0m\u001b[0;34m,\u001b[0m \u001b[0mname\u001b[0m\u001b[0;34m=\u001b[0m\u001b[0mname\u001b[0m\u001b[0;34m,\u001b[0m \u001b[0mas_ref\u001b[0m\u001b[0;34m=\u001b[0m\u001b[0mas_ref\u001b[0m\u001b[0;34m)\u001b[0m\u001b[0;34m\u001b[0m\u001b[0m\n\u001b[0m\u001b[1;32m    742\u001b[0m \u001b[0;34m\u001b[0m\u001b[0m\n",
      "\u001b[0;32m/Users/jegan/anaconda/lib/python3.6/site-packages/tensorflow/python/framework/ops.py\u001b[0m in \u001b[0;36m_TensorTensorConversionFunction\u001b[0;34m(t, dtype, name, as_ref)\u001b[0m\n\u001b[1;32m    613\u001b[0m         \u001b[0;34m\"Tensor conversion requested dtype %s for Tensor with dtype %s: %r\"\u001b[0m\u001b[0;34m\u001b[0m\u001b[0m\n\u001b[0;32m--> 614\u001b[0;31m         % (dtype.name, t.dtype.name, str(t)))\n\u001b[0m\u001b[1;32m    615\u001b[0m   \u001b[0;32mreturn\u001b[0m \u001b[0mt\u001b[0m\u001b[0;34m\u001b[0m\u001b[0m\n",
      "\u001b[0;31mValueError\u001b[0m: Tensor conversion requested dtype float64 for Tensor with dtype float32: 'Tensor(\"ToFloat:0\", shape=(10,), dtype=float32)'",
      "\nDuring handling of the above exception, another exception occurred:\n",
      "\u001b[0;31mTypeError\u001b[0m                                 Traceback (most recent call last)",
      "\u001b[0;32m<ipython-input-112-d59e561bbaf6>\u001b[0m in \u001b[0;36m<module>\u001b[0;34m()\u001b[0m\n\u001b[1;32m     46\u001b[0m \u001b[0;34m\u001b[0m\u001b[0m\n\u001b[1;32m     47\u001b[0m \u001b[0;34m\u001b[0m\u001b[0m\n\u001b[0;32m---> 48\u001b[0;31m \u001b[0mestimator\u001b[0m\u001b[0;34m.\u001b[0m\u001b[0mfit\u001b[0m\u001b[0;34m(\u001b[0m\u001b[0minput_fn\u001b[0m\u001b[0;34m=\u001b[0m\u001b[0mtrain_input_fn\u001b[0m\u001b[0;34m,\u001b[0m \u001b[0msteps\u001b[0m\u001b[0;34m=\u001b[0m\u001b[0;36m1000\u001b[0m\u001b[0;34m)\u001b[0m\u001b[0;34m\u001b[0m\u001b[0m\n\u001b[0m\u001b[1;32m     49\u001b[0m \u001b[0;34m\u001b[0m\u001b[0m\n\u001b[1;32m     50\u001b[0m \u001b[0;31m#estimator.fit(x=x_train, y=y_train, batch_size=10, steps=10000)\u001b[0m\u001b[0;34m\u001b[0m\u001b[0;34m\u001b[0m\u001b[0m\n",
      "\u001b[0;32m/Users/jegan/anaconda/lib/python3.6/site-packages/tensorflow/python/util/deprecation.py\u001b[0m in \u001b[0;36mnew_func\u001b[0;34m(*args, **kwargs)\u001b[0m\n\u001b[1;32m    287\u001b[0m             \u001b[0;34m'in a future version'\u001b[0m \u001b[0;32mif\u001b[0m \u001b[0mdate\u001b[0m \u001b[0;32mis\u001b[0m \u001b[0;32mNone\u001b[0m \u001b[0;32melse\u001b[0m \u001b[0;34m(\u001b[0m\u001b[0;34m'after %s'\u001b[0m \u001b[0;34m%\u001b[0m \u001b[0mdate\u001b[0m\u001b[0;34m)\u001b[0m\u001b[0;34m,\u001b[0m\u001b[0;34m\u001b[0m\u001b[0m\n\u001b[1;32m    288\u001b[0m             instructions)\n\u001b[0;32m--> 289\u001b[0;31m       \u001b[0;32mreturn\u001b[0m \u001b[0mfunc\u001b[0m\u001b[0;34m(\u001b[0m\u001b[0;34m*\u001b[0m\u001b[0margs\u001b[0m\u001b[0;34m,\u001b[0m \u001b[0;34m**\u001b[0m\u001b[0mkwargs\u001b[0m\u001b[0;34m)\u001b[0m\u001b[0;34m\u001b[0m\u001b[0m\n\u001b[0m\u001b[1;32m    290\u001b[0m     return tf_decorator.make_decorator(func, new_func, 'deprecated',\n\u001b[1;32m    291\u001b[0m                                        _add_deprecated_arg_notice_to_docstring(\n",
      "\u001b[0;32m/Users/jegan/anaconda/lib/python3.6/site-packages/tensorflow/contrib/learn/python/learn/estimators/estimator.py\u001b[0m in \u001b[0;36mfit\u001b[0;34m(self, x, y, input_fn, steps, batch_size, monitors, max_steps)\u001b[0m\n\u001b[1;32m    453\u001b[0m       \u001b[0mhooks\u001b[0m\u001b[0;34m.\u001b[0m\u001b[0mappend\u001b[0m\u001b[0;34m(\u001b[0m\u001b[0mbasic_session_run_hooks\u001b[0m\u001b[0;34m.\u001b[0m\u001b[0mStopAtStepHook\u001b[0m\u001b[0;34m(\u001b[0m\u001b[0msteps\u001b[0m\u001b[0;34m,\u001b[0m \u001b[0mmax_steps\u001b[0m\u001b[0;34m)\u001b[0m\u001b[0;34m)\u001b[0m\u001b[0;34m\u001b[0m\u001b[0m\n\u001b[1;32m    454\u001b[0m \u001b[0;34m\u001b[0m\u001b[0m\n\u001b[0;32m--> 455\u001b[0;31m     \u001b[0mloss\u001b[0m \u001b[0;34m=\u001b[0m \u001b[0mself\u001b[0m\u001b[0;34m.\u001b[0m\u001b[0m_train_model\u001b[0m\u001b[0;34m(\u001b[0m\u001b[0minput_fn\u001b[0m\u001b[0;34m=\u001b[0m\u001b[0minput_fn\u001b[0m\u001b[0;34m,\u001b[0m \u001b[0mhooks\u001b[0m\u001b[0;34m=\u001b[0m\u001b[0mhooks\u001b[0m\u001b[0;34m)\u001b[0m\u001b[0;34m\u001b[0m\u001b[0m\n\u001b[0m\u001b[1;32m    456\u001b[0m     \u001b[0mlogging\u001b[0m\u001b[0;34m.\u001b[0m\u001b[0minfo\u001b[0m\u001b[0;34m(\u001b[0m\u001b[0;34m'Loss for final step: %s.'\u001b[0m\u001b[0;34m,\u001b[0m \u001b[0mloss\u001b[0m\u001b[0;34m)\u001b[0m\u001b[0;34m\u001b[0m\u001b[0m\n\u001b[1;32m    457\u001b[0m     \u001b[0;32mreturn\u001b[0m \u001b[0mself\u001b[0m\u001b[0;34m\u001b[0m\u001b[0m\n",
      "\u001b[0;32m/Users/jegan/anaconda/lib/python3.6/site-packages/tensorflow/contrib/learn/python/learn/estimators/estimator.py\u001b[0m in \u001b[0;36m_train_model\u001b[0;34m(self, input_fn, hooks)\u001b[0m\n\u001b[1;32m    953\u001b[0m       \u001b[0mfeatures\u001b[0m\u001b[0;34m,\u001b[0m \u001b[0mlabels\u001b[0m \u001b[0;34m=\u001b[0m \u001b[0minput_fn\u001b[0m\u001b[0;34m(\u001b[0m\u001b[0;34m)\u001b[0m\u001b[0;34m\u001b[0m\u001b[0m\n\u001b[1;32m    954\u001b[0m       \u001b[0mself\u001b[0m\u001b[0;34m.\u001b[0m\u001b[0m_check_inputs\u001b[0m\u001b[0;34m(\u001b[0m\u001b[0mfeatures\u001b[0m\u001b[0;34m,\u001b[0m \u001b[0mlabels\u001b[0m\u001b[0;34m)\u001b[0m\u001b[0;34m\u001b[0m\u001b[0m\n\u001b[0;32m--> 955\u001b[0;31m       \u001b[0mmodel_fn_ops\u001b[0m \u001b[0;34m=\u001b[0m \u001b[0mself\u001b[0m\u001b[0;34m.\u001b[0m\u001b[0m_get_train_ops\u001b[0m\u001b[0;34m(\u001b[0m\u001b[0mfeatures\u001b[0m\u001b[0;34m,\u001b[0m \u001b[0mlabels\u001b[0m\u001b[0;34m)\u001b[0m\u001b[0;34m\u001b[0m\u001b[0m\n\u001b[0m\u001b[1;32m    956\u001b[0m       \u001b[0mops\u001b[0m\u001b[0;34m.\u001b[0m\u001b[0madd_to_collection\u001b[0m\u001b[0;34m(\u001b[0m\u001b[0mops\u001b[0m\u001b[0;34m.\u001b[0m\u001b[0mGraphKeys\u001b[0m\u001b[0;34m.\u001b[0m\u001b[0mLOSSES\u001b[0m\u001b[0;34m,\u001b[0m \u001b[0mmodel_fn_ops\u001b[0m\u001b[0;34m.\u001b[0m\u001b[0mloss\u001b[0m\u001b[0;34m)\u001b[0m\u001b[0;34m\u001b[0m\u001b[0m\n\u001b[1;32m    957\u001b[0m       all_hooks.extend([\n",
      "\u001b[0;32m/Users/jegan/anaconda/lib/python3.6/site-packages/tensorflow/contrib/learn/python/learn/estimators/estimator.py\u001b[0m in \u001b[0;36m_get_train_ops\u001b[0;34m(self, features, labels)\u001b[0m\n\u001b[1;32m   1160\u001b[0m       \u001b[0;31m`\u001b[0m\u001b[0mModelFnOps\u001b[0m\u001b[0;31m`\u001b[0m \u001b[0mobject\u001b[0m\u001b[0;34m.\u001b[0m\u001b[0;34m\u001b[0m\u001b[0m\n\u001b[1;32m   1161\u001b[0m     \"\"\"\n\u001b[0;32m-> 1162\u001b[0;31m     \u001b[0;32mreturn\u001b[0m \u001b[0mself\u001b[0m\u001b[0;34m.\u001b[0m\u001b[0m_call_model_fn\u001b[0m\u001b[0;34m(\u001b[0m\u001b[0mfeatures\u001b[0m\u001b[0;34m,\u001b[0m \u001b[0mlabels\u001b[0m\u001b[0;34m,\u001b[0m \u001b[0mmodel_fn_lib\u001b[0m\u001b[0;34m.\u001b[0m\u001b[0mModeKeys\u001b[0m\u001b[0;34m.\u001b[0m\u001b[0mTRAIN\u001b[0m\u001b[0;34m)\u001b[0m\u001b[0;34m\u001b[0m\u001b[0m\n\u001b[0m\u001b[1;32m   1163\u001b[0m \u001b[0;34m\u001b[0m\u001b[0m\n\u001b[1;32m   1164\u001b[0m   \u001b[0;32mdef\u001b[0m \u001b[0m_get_eval_ops\u001b[0m\u001b[0;34m(\u001b[0m\u001b[0mself\u001b[0m\u001b[0;34m,\u001b[0m \u001b[0mfeatures\u001b[0m\u001b[0;34m,\u001b[0m \u001b[0mlabels\u001b[0m\u001b[0;34m,\u001b[0m \u001b[0mmetrics\u001b[0m\u001b[0;34m)\u001b[0m\u001b[0;34m:\u001b[0m\u001b[0;34m\u001b[0m\u001b[0m\n",
      "\u001b[0;32m/Users/jegan/anaconda/lib/python3.6/site-packages/tensorflow/contrib/learn/python/learn/estimators/estimator.py\u001b[0m in \u001b[0;36m_call_model_fn\u001b[0;34m(self, features, labels, mode)\u001b[0m\n\u001b[1;32m   1131\u001b[0m     \u001b[0;32mif\u001b[0m \u001b[0;34m'model_dir'\u001b[0m \u001b[0;32min\u001b[0m \u001b[0mmodel_fn_args\u001b[0m\u001b[0;34m:\u001b[0m\u001b[0;34m\u001b[0m\u001b[0m\n\u001b[1;32m   1132\u001b[0m       \u001b[0mkwargs\u001b[0m\u001b[0;34m[\u001b[0m\u001b[0;34m'model_dir'\u001b[0m\u001b[0;34m]\u001b[0m \u001b[0;34m=\u001b[0m \u001b[0mself\u001b[0m\u001b[0;34m.\u001b[0m\u001b[0mmodel_dir\u001b[0m\u001b[0;34m\u001b[0m\u001b[0m\n\u001b[0;32m-> 1133\u001b[0;31m     \u001b[0mmodel_fn_results\u001b[0m \u001b[0;34m=\u001b[0m \u001b[0mself\u001b[0m\u001b[0;34m.\u001b[0m\u001b[0m_model_fn\u001b[0m\u001b[0;34m(\u001b[0m\u001b[0mfeatures\u001b[0m\u001b[0;34m,\u001b[0m \u001b[0mlabels\u001b[0m\u001b[0;34m,\u001b[0m \u001b[0;34m**\u001b[0m\u001b[0mkwargs\u001b[0m\u001b[0;34m)\u001b[0m\u001b[0;34m\u001b[0m\u001b[0m\n\u001b[0m\u001b[1;32m   1134\u001b[0m \u001b[0;34m\u001b[0m\u001b[0m\n\u001b[1;32m   1135\u001b[0m     \u001b[0;32mif\u001b[0m \u001b[0misinstance\u001b[0m\u001b[0;34m(\u001b[0m\u001b[0mmodel_fn_results\u001b[0m\u001b[0;34m,\u001b[0m \u001b[0mmodel_fn_lib\u001b[0m\u001b[0;34m.\u001b[0m\u001b[0mModelFnOps\u001b[0m\u001b[0;34m)\u001b[0m\u001b[0;34m:\u001b[0m\u001b[0;34m\u001b[0m\u001b[0m\n",
      "\u001b[0;32m/Users/jegan/anaconda/lib/python3.6/site-packages/tensorflow/contrib/tensor_forest/client/random_forest.py\u001b[0m in \u001b[0;36m_model_fn\u001b[0;34m(features, labels, mode)\u001b[0m\n\u001b[1;32m    189\u001b[0m               \u001b[0mfeatures\u001b[0m\u001b[0;34m,\u001b[0m \u001b[0mlabels\u001b[0m\u001b[0;34m,\u001b[0m \u001b[0minput_weights\u001b[0m\u001b[0;34m=\u001b[0m\u001b[0mweights\u001b[0m\u001b[0;34m,\u001b[0m\u001b[0;34m\u001b[0m\u001b[0m\n\u001b[1;32m    190\u001b[0m               \u001b[0mnum_trainers\u001b[0m\u001b[0;34m=\u001b[0m\u001b[0mnum_trainers\u001b[0m\u001b[0;34m,\u001b[0m\u001b[0;34m\u001b[0m\u001b[0m\n\u001b[0;32m--> 191\u001b[0;31m               trainer_id=trainer_id),\n\u001b[0m\u001b[1;32m    192\u001b[0m           state_ops.assign_add(contrib_framework.get_global_step(), 1))\n\u001b[1;32m    193\u001b[0m       \u001b[0mloss_deps\u001b[0m\u001b[0;34m.\u001b[0m\u001b[0mappend\u001b[0m\u001b[0;34m(\u001b[0m\u001b[0mtraining_graph\u001b[0m\u001b[0;34m)\u001b[0m\u001b[0;34m\u001b[0m\u001b[0m\n",
      "\u001b[0;32m/Users/jegan/anaconda/lib/python3.6/site-packages/tensorflow/contrib/tensor_forest/python/tensor_forest.py\u001b[0m in \u001b[0;36mtraining_graph\u001b[0;34m(self, input_data, input_labels, num_trainers, trainer_id, **tree_kwargs)\u001b[0m\n\u001b[1;32m    354\u001b[0m     \"\"\"\n\u001b[1;32m    355\u001b[0m     processed_dense_features, processed_sparse_features, data_spec = (\n\u001b[0;32m--> 356\u001b[0;31m         data_ops.ParseDataTensorOrDict(input_data))\n\u001b[0m\u001b[1;32m    357\u001b[0m \u001b[0;34m\u001b[0m\u001b[0m\n\u001b[1;32m    358\u001b[0m     \u001b[0;32mif\u001b[0m \u001b[0minput_labels\u001b[0m \u001b[0;32mis\u001b[0m \u001b[0;32mnot\u001b[0m \u001b[0;32mNone\u001b[0m\u001b[0;34m:\u001b[0m\u001b[0;34m\u001b[0m\u001b[0m\n",
      "\u001b[0;32m/Users/jegan/anaconda/lib/python3.6/site-packages/tensorflow/contrib/tensor_forest/python/ops/data_ops.py\u001b[0m in \u001b[0;36mParseDataTensorOrDict\u001b[0;34m(data)\u001b[0m\n\u001b[1;32m    151\u001b[0m     \u001b[0mprocessed_sparse_features\u001b[0m \u001b[0;34m=\u001b[0m \u001b[0;32mNone\u001b[0m\u001b[0;34m\u001b[0m\u001b[0m\n\u001b[1;32m    152\u001b[0m     \u001b[0;32mif\u001b[0m \u001b[0mdense_features\u001b[0m\u001b[0;34m:\u001b[0m\u001b[0;34m\u001b[0m\u001b[0m\n\u001b[0;32m--> 153\u001b[0;31m       \u001b[0mprocessed_dense_features\u001b[0m \u001b[0;34m=\u001b[0m \u001b[0marray_ops\u001b[0m\u001b[0;34m.\u001b[0m\u001b[0mconcat\u001b[0m\u001b[0;34m(\u001b[0m\u001b[0mdense_features\u001b[0m\u001b[0;34m,\u001b[0m \u001b[0;36m1\u001b[0m\u001b[0;34m)\u001b[0m\u001b[0;34m\u001b[0m\u001b[0m\n\u001b[0m\u001b[1;32m    154\u001b[0m       \u001b[0mdata_spec\u001b[0m\u001b[0;34m.\u001b[0m\u001b[0mdense_features_size\u001b[0m \u001b[0;34m=\u001b[0m \u001b[0mdense_features_size\u001b[0m\u001b[0;34m\u001b[0m\u001b[0m\n\u001b[1;32m    155\u001b[0m     \u001b[0;32mif\u001b[0m \u001b[0msparse_features\u001b[0m\u001b[0;34m:\u001b[0m\u001b[0;34m\u001b[0m\u001b[0m\n",
      "\u001b[0;32m/Users/jegan/anaconda/lib/python3.6/site-packages/tensorflow/python/ops/array_ops.py\u001b[0m in \u001b[0;36mconcat\u001b[0;34m(values, axis, name)\u001b[0m\n\u001b[1;32m   1046\u001b[0m   return gen_array_ops._concat_v2(values=values,\n\u001b[1;32m   1047\u001b[0m                                   \u001b[0maxis\u001b[0m\u001b[0;34m=\u001b[0m\u001b[0maxis\u001b[0m\u001b[0;34m,\u001b[0m\u001b[0;34m\u001b[0m\u001b[0m\n\u001b[0;32m-> 1048\u001b[0;31m                                   name=name)\n\u001b[0m\u001b[1;32m   1049\u001b[0m \u001b[0;34m\u001b[0m\u001b[0m\n\u001b[1;32m   1050\u001b[0m \u001b[0;34m\u001b[0m\u001b[0m\n",
      "\u001b[0;32m/Users/jegan/anaconda/lib/python3.6/site-packages/tensorflow/python/ops/gen_array_ops.py\u001b[0m in \u001b[0;36m_concat_v2\u001b[0;34m(values, axis, name)\u001b[0m\n\u001b[1;32m    493\u001b[0m   \"\"\"\n\u001b[1;32m    494\u001b[0m   result = _op_def_lib.apply_op(\"ConcatV2\", values=values, axis=axis,\n\u001b[0;32m--> 495\u001b[0;31m                                 name=name)\n\u001b[0m\u001b[1;32m    496\u001b[0m   \u001b[0;32mreturn\u001b[0m \u001b[0mresult\u001b[0m\u001b[0;34m\u001b[0m\u001b[0m\n\u001b[1;32m    497\u001b[0m \u001b[0;34m\u001b[0m\u001b[0m\n",
      "\u001b[0;32m/Users/jegan/anaconda/lib/python3.6/site-packages/tensorflow/python/framework/op_def_library.py\u001b[0m in \u001b[0;36mapply_op\u001b[0;34m(self, op_type_name, name, **keywords)\u001b[0m\n\u001b[1;32m    461\u001b[0m                                 (prefix, dtype.name))\n\u001b[1;32m    462\u001b[0m               \u001b[0;32melse\u001b[0m\u001b[0;34m:\u001b[0m\u001b[0;34m\u001b[0m\u001b[0m\n\u001b[0;32m--> 463\u001b[0;31m                 \u001b[0;32mraise\u001b[0m \u001b[0mTypeError\u001b[0m\u001b[0;34m(\u001b[0m\u001b[0;34m\"%s that don't all match.\"\u001b[0m \u001b[0;34m%\u001b[0m \u001b[0mprefix\u001b[0m\u001b[0;34m)\u001b[0m\u001b[0;34m\u001b[0m\u001b[0m\n\u001b[0m\u001b[1;32m    464\u001b[0m             \u001b[0;32melse\u001b[0m\u001b[0;34m:\u001b[0m\u001b[0;34m\u001b[0m\u001b[0m\n\u001b[1;32m    465\u001b[0m               \u001b[0;32mraise\u001b[0m \u001b[0mTypeError\u001b[0m\u001b[0;34m(\u001b[0m\u001b[0;34m\"%s that are invalid.\"\u001b[0m \u001b[0;34m%\u001b[0m \u001b[0mprefix\u001b[0m\u001b[0;34m)\u001b[0m\u001b[0;34m\u001b[0m\u001b[0m\n",
      "\u001b[0;31mTypeError\u001b[0m: Tensors in list passed to 'values' of 'ConcatV2' Op have types [float64, float64, float64, float64, float64, float64, float32, float64, float64, float64, float64, float64, float64, float64, float64, float64, float64, float64, float64, float64, float64, float64, float64] that don't all match."
     ]
    }
   ],
   "source": [
    "from tensorflow.contrib.tensor_forest.python import tensor_forest\n",
    "from tensorflow.contrib.learn.python import SKCompat\n",
    "from tensorflow.python.estimator.inputs import numpy_io\n",
    "\n",
    "\n",
    "trainsize = int(len(y_train) * 0.8)\n",
    "testsize = len(y_train) - trainsize\n",
    "npredictors = len(x_train.columns)\n",
    "noutputs = 1\n",
    "shutil.rmtree('./trained_model_rf', ignore_errors=True) # so that we don't load weights from previous runs\n",
    "hparams = tensor_forest.ForestHParams(\n",
    "        num_trees=3,\n",
    "        max_nodes=1000,\n",
    "        num_classes=3,\n",
    "        num_features=4,\n",
    "        split_after_samples=20,\n",
    "        regression=True)\n",
    "estimator = tf.contrib.tensor_forest.client.random_forest.TensorForestEstimator(hparams.fill(), model_dir='./trained_model_rf')\n",
    "\n",
    "\n",
    "# def input_fn(features, y_train):\n",
    "#   return tf.constant(features.values), tf.constant(y_train.values.reshape(len(y_train), noutputs))\n",
    "\n",
    "# estimator.fit(input_fn=lambda: input_fn(x_train[:trainsize], y_train[:trainsize]), steps=100000)\n",
    "\n",
    "#print(x_train.shape)\n",
    "#print(pd.DataFrame({\"x\": x_train}, index=list(range(0,23))))\n",
    "#print(pd.Series(y_train))\n",
    "\n",
    "\n",
    "\n",
    "\n",
    "train_input_fn = tf.estimator.inputs.pandas_input_fn(\n",
    "      x=x_train,\n",
    "      y=y_train,\n",
    "      batch_size=10,\n",
    "      num_epochs=None,\n",
    "      shuffle=True)\n",
    "\n",
    "# train_input_fn = numpy_io.numpy_input_fn(\n",
    "#       x={'x': np.array(x_train).astype(np.int32)},\n",
    "#       y=np.array(y_train).astype(np.int32),\n",
    "#       batch_size=10,\n",
    "#       num_epochs=None,\n",
    "#       shuffle=True)\n",
    "\n",
    "\n",
    "estimator.fit(input_fn=train_input_fn, steps=1000)\n",
    "\n",
    "#estimator.fit(x=x_train, y=y_train, batch_size=10, steps=10000)\n",
    "\n",
    "\n",
    "\n",
    "\n",
    "#from tensorflow.contrib.learn.python import SKCompat\n",
    "\n",
    "#regressor = SKCompat(estimator)\n",
    "\n",
    "#x_val = [tf.cast(x_col, tf.float32) for x_col in x_train]\n",
    "#x_val = x_train.astype(tf.float32)\n",
    "#regressor.fit(x=tf.cast(x_train,tf.float32), y=y_train, batch_size=10, steps=10000)\n",
    "\n"
   ]
  },
  {
   "cell_type": "code",
   "execution_count": null,
   "metadata": {},
   "outputs": [],
   "source": []
  }
 ],
 "metadata": {
  "kernelspec": {
   "display_name": "Python 3",
   "language": "python",
   "name": "python3"
  },
  "language_info": {
   "codemirror_mode": {
    "name": "ipython",
    "version": 3
   },
   "file_extension": ".py",
   "mimetype": "text/x-python",
   "name": "python",
   "nbconvert_exporter": "python",
   "pygments_lexer": "ipython3",
   "version": "3.6.1"
  }
 },
 "nbformat": 4,
 "nbformat_minor": 2
}

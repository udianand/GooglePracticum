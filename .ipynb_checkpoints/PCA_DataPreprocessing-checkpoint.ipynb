{
 "cells": [
  {
   "cell_type": "markdown",
   "metadata": {},
   "source": [
    "# Google Practicum"
   ]
  },
  {
   "cell_type": "markdown",
   "metadata": {},
   "source": [
    "## Exploratory Analysis: Illinois Corn Data"
   ]
  },
  {
   "cell_type": "code",
   "execution_count": 1,
   "metadata": {
    "collapsed": true
   },
   "outputs": [],
   "source": [
    "# Library Import\n",
    "%matplotlib inline \n",
    "import numpy as np\n",
    "import matplotlib.pyplot as plt\n",
    "import pandas as pd\n",
    "import os"
   ]
  },
  {
   "cell_type": "code",
   "execution_count": 2,
   "metadata": {},
   "outputs": [
    {
     "name": "stdout",
     "output_type": "stream",
     "text": [
      "/Users/uditanand/Desktop/Github/GooglePracticum\n"
     ]
    }
   ],
   "source": [
    "# Get current working directory\n",
    "cwd = os.getcwd()\n",
    "print(cwd)"
   ]
  },
  {
   "cell_type": "code",
   "execution_count": 3,
   "metadata": {},
   "outputs": [
    {
     "name": "stdout",
     "output_type": "stream",
     "text": [
      "      State Ag District      County Commodity     Value\n",
      "0  ILLINOIS     CENTRAL      MCLEAN      CORN  70340000\n",
      "1  ILLINOIS     CENTRAL       LOGAN      CORN  43723000\n",
      "2  ILLINOIS     CENTRAL    TAZEWELL      CORN  33978000\n",
      "3  ILLINOIS        EAST  LIVINGSTON      CORN  63438000\n",
      "4  ILLINOIS        EAST    IROQUOIS      CORN  62228000\n",
      " \n",
      " Names of Agricultural Districts: \n",
      "\n",
      "['CENTRAL', 'EAST', 'EAST SOUTHEAST', 'NORTHEAST', 'NORTHWEST', 'SOUTHEAST', 'SOUTHWEST', 'WEST', 'WEST SOUTHWEST']\n"
     ]
    }
   ],
   "source": [
    "# Import Names of counties from file\n",
    "maize_data_dir = cwd + '/Data/Maize/'\n",
    "IL_county_names = maize_data_dir + 'County_Names_IL.csv'\n",
    "county_names = pd.read_csv(IL_county_names)\n",
    "print(county_names.head())\n",
    "\n",
    "# Print name of unique districts\n",
    "ag_district_list = list(county_names['Ag District'].unique())\n",
    "print(\" \\n Names of Agricultural Districts: \\n\")\n",
    "print(ag_district_list)"
   ]
  },
  {
   "cell_type": "code",
   "execution_count": 4,
   "metadata": {},
   "outputs": [
    {
     "name": "stdout",
     "output_type": "stream",
     "text": [
      "CENTRAL\n",
      "0      MCLEAN\n",
      "1       LOGAN\n",
      "2    TAZEWELL\n",
      "Name: County, dtype: object\n",
      "\n",
      "\n",
      "EAST\n",
      "3    LIVINGSTON\n",
      "4      IROQUOIS\n",
      "5     CHAMPAIGN\n",
      "Name: County, dtype: object\n",
      "\n",
      "\n",
      "EAST SOUTHEAST\n",
      "6      EDGAR\n",
      "7     SHELBY\n",
      "8    DOUGLAS\n",
      "Name: County, dtype: object\n",
      "\n",
      "\n",
      "NORTHEAST\n",
      "9     LA SALLE\n",
      "10     DE KALB\n",
      "11      GRUNDY\n",
      "Name: County, dtype: object\n",
      "\n",
      "\n",
      "NORTHWEST\n",
      "12    BUREAU\n",
      "13       LEE\n",
      "14      OGLE\n",
      "Name: County, dtype: object\n",
      "\n",
      "\n",
      "SOUTHEAST\n",
      "15    GALLATIN\n",
      "16       WHITE\n",
      "17    HAMILTON\n",
      "Name: County, dtype: object\n",
      "\n",
      "\n",
      "SOUTHWEST\n",
      "18      ST CLAIR\n",
      "19       CLINTON\n",
      "20    WASHINGTON\n",
      "Name: County, dtype: object\n",
      "\n",
      "\n",
      "WEST\n",
      "21     WARREN\n",
      "22    HANCOCK\n",
      "23       KNOX\n",
      "Name: County, dtype: object\n",
      "\n",
      "\n",
      "WEST SOUTHWEST\n",
      "24     SANGAMON\n",
      "25    CHRISTIAN\n",
      "26     MACOUPIN\n",
      "Name: County, dtype: object\n",
      "\n",
      "\n"
     ]
    }
   ],
   "source": [
    "# Group counties belonging to a particular agricultural district and store them in a dictionary\n",
    "\n",
    "district_county_dict = {}\n",
    "\n",
    "ag_district_list = list(county_names['Ag District'].unique())\n",
    "\n",
    "for district in ag_district_list:\n",
    "    county_in_ag_district = county_names[(county_names['Ag District'] == district)] \n",
    "    county_in_ag_district = county_in_ag_district['County']\n",
    "    district_county_dict[district] = county_in_ag_district\n",
    "\n",
    "# Print the dictionary, Structure {Region_1: County_1, County_2 ,... ; Region_2: County_1, County_2.. }\n",
    "for key,values in district_county_dict.items():\n",
    "    print(key)\n",
    "    print(values)\n",
    "    print(\"\\n\")\n"
   ]
  },
  {
   "cell_type": "code",
   "execution_count": 5,
   "metadata": {},
   "outputs": [],
   "source": [
    "#NOTE: \n",
    "#-----\n",
    "# Sample code for accessing a particular value in the dictionary\n",
    "\n",
    "# values = district_county_dict['CENTRAL']\n",
    "# print(values)\n",
    "# print(\"\\n\")\n",
    "# print(values[0])"
   ]
  },
  {
   "cell_type": "code",
   "execution_count": 6,
   "metadata": {
    "collapsed": true
   },
   "outputs": [],
   "source": [
    "# Importing dataset\n",
    "#Dataset = pd.read_csv('weather_data_example.csv')\n",
    "#X = Dataset.iloc[:,:].values"
   ]
  },
  {
   "cell_type": "code",
   "execution_count": 7,
   "metadata": {},
   "outputs": [
    {
     "name": "stdout",
     "output_type": "stream",
     "text": [
      "\n",
      " Column Information \n",
      "\n",
      "<bound method Index._add_logical_methods.<locals>._make_logical_function.<locals>.logical_func of Index(['Unnamed: 0', 'COUNTY', 'YEAR', 'MONTH', 'TMP_HIGH', 'TMP_AVG',\n",
      "       'TMP_LOW', 'DP_HIGH', 'DP_AVG', 'DP_LOW', 'HUM_HIGH', 'HUM_AVG',\n",
      "       'HUM_LOW', 'SEALVL_HIGH', 'SEALVL_AVG', 'SEALVL_LOW', 'VIS_HIGH',\n",
      "       'VIS_AVG', 'VIS_LOW', 'WIND_HIGH', 'WIND_AVG', 'PRECIP', 'NUMDAY_RAIN',\n",
      "       'NUM_DAYS_SNOW', 'NUM_DAYS_FOG', 'NUM_DAYS_THNDRSTRM'],\n",
      "      dtype='object')>\n",
      "\n",
      " Weather Data: Head \n",
      "\n",
      "   Unnamed: 0      COUNTY  YEAR MONTH  TMP_HIGH    TMP_AVG  TMP_LOW  DP_HIGH  \\\n",
      "0           0   champaign  2016   JAN        61  27.419355        0       52   \n",
      "1           1   champaign  2016   FEB        70  33.379310        4       58   \n",
      "2           2   champaign  2016   MAR        75  47.741935       15       62   \n",
      "3           3   champaign  2016   ARP        86  52.666667       24       62   \n",
      "4           4  LIVINGSTON  2016   MAY        89  62.838710       38       69   \n",
      "\n",
      "      DP_AVG  DP_LOW         ...          VIS_HIGH   VIS_AVG  VIS_LOW  \\\n",
      "0  21.225806      -7         ...                10  8.516129        0   \n",
      "1  25.413793      -5         ...                10  8.310345        0   \n",
      "2  38.741935      10         ...                10  8.709677        0   \n",
      "3  41.133333      13         ...                10  8.366667        0   \n",
      "4  49.967742      25         ...                10  9.064516        0   \n",
      "\n",
      "   WIND_HIGH   WIND_AVG  PRECIP  NUMDAY_RAIN  NUM_DAYS_SNOW  NUM_DAYS_FOG  \\\n",
      "0         37  12.903226   0.885            5              9             5   \n",
      "1         43  13.172414   0.860            7              7             5   \n",
      "2         36  12.322581   3.065           13              1             4   \n",
      "3         47  11.800000   3.285           12              1             4   \n",
      "4         37  10.645161   2.545           17              0             2   \n",
      "\n",
      "   NUM_DAYS_THNDRSTRM  \n",
      "0                   0  \n",
      "1                   1  \n",
      "2                   3  \n",
      "3                   4  \n",
      "4                   6  \n",
      "\n",
      "[5 rows x 26 columns]\n",
      "\n",
      " Shape of weather data \n",
      "\n",
      "(22, 26)\n"
     ]
    }
   ],
   "source": [
    "# Import Sample weather data file\n",
    "weather_data_dir = cwd + '/Data/Weather/'\n",
    "sample_weather_file = weather_data_dir + 'weather_data_example.csv'\n",
    "sample_weather_data = pd.read_csv(sample_weather_file)\n",
    "\n",
    "print(\"\\n Column Information \\n\")\n",
    "print(sample_weather_data.columns.all)\n",
    "print(\"\\n Weather Data: Head \\n\")\n",
    "print(sample_weather_data.head())\n",
    "print(\"\\n Shape of weather data \\n\")\n",
    "print(sample_weather_data.shape)\n"
   ]
  },
  {
   "cell_type": "code",
   "execution_count": null,
   "metadata": {
    "collapsed": true
   },
   "outputs": [],
   "source": []
  }
 ],
 "metadata": {
  "kernelspec": {
   "display_name": "Python 3",
   "language": "python",
   "name": "python3"
  },
  "language_info": {
   "codemirror_mode": {
    "name": "ipython",
    "version": 3
   },
   "file_extension": ".py",
   "mimetype": "text/x-python",
   "name": "python",
   "nbconvert_exporter": "python",
   "pygments_lexer": "ipython3",
   "version": "3.6.1"
  }
 },
 "nbformat": 4,
 "nbformat_minor": 2
}

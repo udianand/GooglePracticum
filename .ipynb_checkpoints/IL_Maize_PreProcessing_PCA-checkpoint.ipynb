{
 "cells": [
  {
   "cell_type": "markdown",
   "metadata": {},
   "source": [
    "# Google Practicum"
   ]
  },
  {
   "cell_type": "markdown",
   "metadata": {},
   "source": [
    "## Exploratory Analysis: Illinois Maize Data"
   ]
  },
  {
   "cell_type": "code",
   "execution_count": 16,
   "metadata": {
    "collapsed": true
   },
   "outputs": [],
   "source": [
    "# Library Import\n",
    "%matplotlib inline\n",
    "import numpy as np\n",
    "import matplotlib.pyplot as plt\n",
    "import pandas as pd\n",
    "import os"
   ]
  },
  {
   "cell_type": "code",
   "execution_count": 2,
   "metadata": {},
   "outputs": [
    {
     "name": "stdout",
     "output_type": "stream",
     "text": [
      "/Users/uditanand/Desktop/Github/GooglePracticum\n"
     ]
    }
   ],
   "source": [
    "# Get current working directory\n",
    "cwd = os.getcwd()\n",
    "print(cwd)"
   ]
  },
  {
   "cell_type": "code",
   "execution_count": 3,
   "metadata": {
    "tags": [
     "Improve_Lower_Case_Code"
    ]
   },
   "outputs": [
    {
     "name": "stdout",
     "output_type": "stream",
     "text": [
      "      STATE AG_DISTRICT      COUNTY COMMODITY     VALUE\n",
      "0  illinois     central      mclean      corn  70340000\n",
      "1  illinois     central       logan      corn  43723000\n",
      "2  illinois     central    tazewell      corn  33978000\n",
      "3  illinois        east  livingston      corn  63438000\n",
      "4  illinois        east    iroquois      corn  62228000\n",
      " \n",
      " Agricultural Districts: \n",
      "\n",
      "['central', 'east', 'east southeast', 'northeast', 'northwest', 'southeast', 'southwest', 'west', 'west southwest']\n"
     ]
    }
   ],
   "source": [
    "# Import Names of counties from file\n",
    "maize_data_dir = cwd + '/Data/Maize/'\n",
    "IL_county_data = maize_data_dir + 'County_Names_IL.csv'\n",
    "county_data = pd.read_csv(IL_county_data)\n",
    "\n",
    "# rename Ag district to Ag_District\n",
    "county_data.rename(columns={'Ag District': 'Ag_District'}, inplace=True)\n",
    "\n",
    "# making all column names UPPER CASE --> inline with the weather data file\n",
    "county_data.columns = map(str.upper, county_data.columns)\n",
    "\n",
    "# making COUNTY, STATE, AG DISTRICT, COMMODITY data lower case\n",
    "# CAN BE MADE FASTER WITH A LAMBDA FUNCTION\n",
    "county_data.STATE = county_data.STATE.str.lower()\n",
    "county_data.AG_DISTRICT = county_data.AG_DISTRICT.str.lower()\n",
    "county_data.COUNTY = county_data.COUNTY.str.lower() \n",
    "county_data.COMMODITY = county_data.COMMODITY.str.lower()\n",
    "\n",
    "print(county_data.head())\n",
    "\n",
    "# Print name of unique districts\n",
    "ag_district_list = list(county_data['AG_DISTRICT'].unique())\n",
    "print(\" \\n Agricultural Districts: \\n\")\n",
    "print(ag_district_list)"
   ]
  },
  {
   "cell_type": "code",
   "execution_count": 4,
   "metadata": {},
   "outputs": [
    {
     "name": "stdout",
     "output_type": "stream",
     "text": [
      "central\n",
      "0      mclean\n",
      "1       logan\n",
      "2    tazewell\n",
      "Name: COUNTY, dtype: object\n",
      "\n",
      "\n",
      "east\n",
      "3    livingston\n",
      "4      iroquois\n",
      "5     champaign\n",
      "Name: COUNTY, dtype: object\n",
      "\n",
      "\n",
      "east southeast\n",
      "6      edgar\n",
      "7     shelby\n",
      "8    douglas\n",
      "Name: COUNTY, dtype: object\n",
      "\n",
      "\n",
      "northeast\n",
      "9     la salle\n",
      "10     de kalb\n",
      "11      grundy\n",
      "Name: COUNTY, dtype: object\n",
      "\n",
      "\n",
      "northwest\n",
      "12    bureau\n",
      "13       lee\n",
      "14      ogle\n",
      "Name: COUNTY, dtype: object\n",
      "\n",
      "\n",
      "southeast\n",
      "15    gallatin\n",
      "16       white\n",
      "17    hamilton\n",
      "Name: COUNTY, dtype: object\n",
      "\n",
      "\n",
      "southwest\n",
      "18      st clair\n",
      "19       clinton\n",
      "20    washington\n",
      "Name: COUNTY, dtype: object\n",
      "\n",
      "\n",
      "west\n",
      "21     warren\n",
      "22    hancock\n",
      "23       knox\n",
      "Name: COUNTY, dtype: object\n",
      "\n",
      "\n",
      "west southwest\n",
      "24     sangamon\n",
      "25    christian\n",
      "26     macoupin\n",
      "Name: COUNTY, dtype: object\n",
      "\n",
      "\n"
     ]
    }
   ],
   "source": [
    "# Group counties belonging to a particular agricultural district and store them in a dictionary\n",
    "\n",
    "district_county_dict = {}\n",
    "\n",
    "for district in ag_district_list:\n",
    "    county_in_ag_district = county_data[(county_data['AG_DISTRICT'] == district)] \n",
    "    county_in_ag_district = county_in_ag_district['COUNTY']\n",
    "    district_county_dict[district] = county_in_ag_district\n",
    "\n",
    "# Print the dictionary, Structure {Region_1: County_1, County_2 ,... ; Region_2: County_1, County_2.. }\n",
    "for key,values in district_county_dict.items():\n",
    "    print(key)\n",
    "    print(values)\n",
    "    print(\"\\n\")\n"
   ]
  },
  {
   "cell_type": "code",
   "execution_count": 5,
   "metadata": {
    "collapsed": true
   },
   "outputs": [],
   "source": [
    "#NOTE: \n",
    "#-----\n",
    "# Sample code for accessing a particular value in the dictionary\n",
    "\n",
    "# values = district_county_dict['CENTRAL']\n",
    "# print(values)\n",
    "# print(\"\\n\")\n",
    "# print(values[0])"
   ]
  },
  {
   "cell_type": "code",
   "execution_count": 6,
   "metadata": {},
   "outputs": [
    {
     "name": "stdout",
     "output_type": "stream",
     "text": [
      "\n",
      " Column Information \n",
      "\n",
      "<bound method Index._add_logical_methods.<locals>._make_logical_function.<locals>.logical_func of Index(['INDEX', 'COUNTY', 'YEAR', 'MONTH', 'TMP_HIGH', 'TMP_AVG', 'TMP_LOW',\n",
      "       'DP_HIGH', 'DP_AVG', 'DP_LOW', 'HUM_HIGH', 'HUM_AVG', 'HUM_LOW',\n",
      "       'SEALVL_HIGH', 'SEALVL_AVG', 'SEALVL_LOW', 'VIS_HIGH', 'VIS_AVG',\n",
      "       'VIS_LOW', 'WIND_HIGH', 'WIND_AVG', 'PRECIP', 'NUMDAY_RAIN',\n",
      "       'NUM_DAYS_SNOW', 'NUM_DAYS_FOG', 'NUM_DAYS_THNDRSTRM'],\n",
      "      dtype='object')>\n"
     ]
    }
   ],
   "source": [
    "# Import weather data file\n",
    "weather_data_dir = cwd + '/Data/Weather/'\n",
    "sample_weather_file = weather_data_dir + 'weather_data.csv'\n",
    "sample_weather_data = pd.read_csv(sample_weather_file)\n",
    "\n",
    "print(\"\\n Column Information \\n\")\n",
    "print(sample_weather_data.columns.all)\n"
   ]
  },
  {
   "cell_type": "code",
   "execution_count": 7,
   "metadata": {},
   "outputs": [
    {
     "data": {
      "text/html": [
       "<div>\n",
       "<style>\n",
       "    .dataframe thead tr:only-child th {\n",
       "        text-align: right;\n",
       "    }\n",
       "\n",
       "    .dataframe thead th {\n",
       "        text-align: left;\n",
       "    }\n",
       "\n",
       "    .dataframe tbody tr th {\n",
       "        vertical-align: top;\n",
       "    }\n",
       "</style>\n",
       "<table border=\"1\" class=\"dataframe\">\n",
       "  <thead>\n",
       "    <tr style=\"text-align: right;\">\n",
       "      <th></th>\n",
       "      <th>AG_DISTRICT</th>\n",
       "      <th>INDEX</th>\n",
       "      <th>COUNTY</th>\n",
       "      <th>YEAR</th>\n",
       "      <th>MONTH</th>\n",
       "      <th>TMP_HIGH</th>\n",
       "      <th>TMP_AVG</th>\n",
       "      <th>TMP_LOW</th>\n",
       "      <th>DP_HIGH</th>\n",
       "      <th>DP_AVG</th>\n",
       "      <th>...</th>\n",
       "      <th>VIS_HIGH</th>\n",
       "      <th>VIS_AVG</th>\n",
       "      <th>VIS_LOW</th>\n",
       "      <th>WIND_HIGH</th>\n",
       "      <th>WIND_AVG</th>\n",
       "      <th>PRECIP</th>\n",
       "      <th>NUMDAY_RAIN</th>\n",
       "      <th>NUM_DAYS_SNOW</th>\n",
       "      <th>NUM_DAYS_FOG</th>\n",
       "      <th>NUM_DAYS_THNDRSTRM</th>\n",
       "    </tr>\n",
       "  </thead>\n",
       "  <tbody>\n",
       "    <tr>\n",
       "      <th>0</th>\n",
       "      <td>central</td>\n",
       "      <td>0</td>\n",
       "      <td>mclean</td>\n",
       "      <td>2001</td>\n",
       "      <td>JAN</td>\n",
       "      <td>41.0</td>\n",
       "      <td>24.935484</td>\n",
       "      <td>3.0</td>\n",
       "      <td>37.0</td>\n",
       "      <td>22.032258</td>\n",
       "      <td>...</td>\n",
       "      <td>20.0</td>\n",
       "      <td>7.774194</td>\n",
       "      <td>0.0</td>\n",
       "      <td>21.0</td>\n",
       "      <td>9.322581</td>\n",
       "      <td>0.0</td>\n",
       "      <td>5.0</td>\n",
       "      <td>10.0</td>\n",
       "      <td>4.0</td>\n",
       "      <td>0.0</td>\n",
       "    </tr>\n",
       "    <tr>\n",
       "      <th>1</th>\n",
       "      <td>central</td>\n",
       "      <td>1</td>\n",
       "      <td>mclean</td>\n",
       "      <td>2001</td>\n",
       "      <td>FEB</td>\n",
       "      <td>57.0</td>\n",
       "      <td>28.964286</td>\n",
       "      <td>-2.0</td>\n",
       "      <td>55.0</td>\n",
       "      <td>22.892857</td>\n",
       "      <td>...</td>\n",
       "      <td>20.0</td>\n",
       "      <td>9.464286</td>\n",
       "      <td>0.0</td>\n",
       "      <td>24.0</td>\n",
       "      <td>10.035714</td>\n",
       "      <td>0.0</td>\n",
       "      <td>7.0</td>\n",
       "      <td>7.0</td>\n",
       "      <td>2.0</td>\n",
       "      <td>3.0</td>\n",
       "    </tr>\n",
       "    <tr>\n",
       "      <th>2</th>\n",
       "      <td>central</td>\n",
       "      <td>2</td>\n",
       "      <td>mclean</td>\n",
       "      <td>2001</td>\n",
       "      <td>MAR</td>\n",
       "      <td>59.0</td>\n",
       "      <td>36.225806</td>\n",
       "      <td>15.0</td>\n",
       "      <td>50.0</td>\n",
       "      <td>26.193548</td>\n",
       "      <td>...</td>\n",
       "      <td>20.0</td>\n",
       "      <td>11.000000</td>\n",
       "      <td>1.0</td>\n",
       "      <td>20.0</td>\n",
       "      <td>9.322581</td>\n",
       "      <td>0.0</td>\n",
       "      <td>6.0</td>\n",
       "      <td>5.0</td>\n",
       "      <td>1.0</td>\n",
       "      <td>0.0</td>\n",
       "    </tr>\n",
       "    <tr>\n",
       "      <th>3</th>\n",
       "      <td>central</td>\n",
       "      <td>3</td>\n",
       "      <td>mclean</td>\n",
       "      <td>2001</td>\n",
       "      <td>ARP</td>\n",
       "      <td>84.0</td>\n",
       "      <td>57.533333</td>\n",
       "      <td>28.0</td>\n",
       "      <td>68.0</td>\n",
       "      <td>42.566667</td>\n",
       "      <td>...</td>\n",
       "      <td>20.0</td>\n",
       "      <td>12.033333</td>\n",
       "      <td>1.0</td>\n",
       "      <td>23.0</td>\n",
       "      <td>10.466667</td>\n",
       "      <td>0.0</td>\n",
       "      <td>8.0</td>\n",
       "      <td>1.0</td>\n",
       "      <td>0.0</td>\n",
       "      <td>3.0</td>\n",
       "    </tr>\n",
       "    <tr>\n",
       "      <th>4</th>\n",
       "      <td>central</td>\n",
       "      <td>4</td>\n",
       "      <td>mclean</td>\n",
       "      <td>2001</td>\n",
       "      <td>MAY</td>\n",
       "      <td>89.0</td>\n",
       "      <td>63.935484</td>\n",
       "      <td>44.0</td>\n",
       "      <td>68.0</td>\n",
       "      <td>51.709677</td>\n",
       "      <td>...</td>\n",
       "      <td>20.0</td>\n",
       "      <td>10.580645</td>\n",
       "      <td>0.0</td>\n",
       "      <td>25.0</td>\n",
       "      <td>8.129032</td>\n",
       "      <td>0.0</td>\n",
       "      <td>11.0</td>\n",
       "      <td>0.0</td>\n",
       "      <td>2.0</td>\n",
       "      <td>2.0</td>\n",
       "    </tr>\n",
       "  </tbody>\n",
       "</table>\n",
       "<p>5 rows × 27 columns</p>\n",
       "</div>"
      ],
      "text/plain": [
       "  AG_DISTRICT  INDEX  COUNTY  YEAR MONTH  TMP_HIGH    TMP_AVG  TMP_LOW  \\\n",
       "0     central      0  mclean  2001   JAN      41.0  24.935484      3.0   \n",
       "1     central      1  mclean  2001   FEB      57.0  28.964286     -2.0   \n",
       "2     central      2  mclean  2001   MAR      59.0  36.225806     15.0   \n",
       "3     central      3  mclean  2001   ARP      84.0  57.533333     28.0   \n",
       "4     central      4  mclean  2001   MAY      89.0  63.935484     44.0   \n",
       "\n",
       "   DP_HIGH     DP_AVG         ...          VIS_HIGH    VIS_AVG  VIS_LOW  \\\n",
       "0     37.0  22.032258         ...              20.0   7.774194      0.0   \n",
       "1     55.0  22.892857         ...              20.0   9.464286      0.0   \n",
       "2     50.0  26.193548         ...              20.0  11.000000      1.0   \n",
       "3     68.0  42.566667         ...              20.0  12.033333      1.0   \n",
       "4     68.0  51.709677         ...              20.0  10.580645      0.0   \n",
       "\n",
       "   WIND_HIGH   WIND_AVG  PRECIP  NUMDAY_RAIN  NUM_DAYS_SNOW  NUM_DAYS_FOG  \\\n",
       "0       21.0   9.322581     0.0          5.0           10.0           4.0   \n",
       "1       24.0  10.035714     0.0          7.0            7.0           2.0   \n",
       "2       20.0   9.322581     0.0          6.0            5.0           1.0   \n",
       "3       23.0  10.466667     0.0          8.0            1.0           0.0   \n",
       "4       25.0   8.129032     0.0         11.0            0.0           2.0   \n",
       "\n",
       "   NUM_DAYS_THNDRSTRM  \n",
       "0                 0.0  \n",
       "1                 3.0  \n",
       "2                 0.0  \n",
       "3                 3.0  \n",
       "4                 2.0  \n",
       "\n",
       "[5 rows x 27 columns]"
      ]
     },
     "execution_count": 7,
     "metadata": {},
     "output_type": "execute_result"
    }
   ],
   "source": [
    "# Append corresponding AGRICULTURAL DISTRICT to COUNTY\n",
    "sample_weather_data['AG_DISTRICT'] = \"Dummy\"\n",
    "\n",
    "# reorder the AG_DISTRICT to become the first column\n",
    "colnames = sample_weather_data.columns.tolist()\n",
    "colnames = colnames[-1:] + colnames[:-1]\n",
    "sample_weather_data = sample_weather_data[colnames]\n",
    "\n",
    "county_names_list = list(county_data['COUNTY'].unique())\n",
    "\n",
    "for county in county_names_list:\n",
    "    county_district = county_data[(county_data['COUNTY'] == county)] \n",
    "    county_district = county_district['AG_DISTRICT']\n",
    "    \n",
    "    selected_county = sample_weather_data[(sample_weather_data['COUNTY'] == county)]\n",
    "    \n",
    "    sample_weather_data.loc[sample_weather_data['COUNTY'] == county, 'AG_DISTRICT'] = county_district.values\n",
    "\n",
    "sample_weather_data.loc[:,['AG_DISTRICT','COUNTY']].head()\n",
    "sample_weather_data.head()\n",
    "# sample_weather_data.iloc[:,5:26]"
   ]
  },
  {
   "cell_type": "code",
   "execution_count": 8,
   "metadata": {},
   "outputs": [],
   "source": [
    "# NOTE: HANDLE WITH CARE. DO NOT UNCOMMENT\n",
    "#groupby_ag_district_month_year = sample_weather_data.groupby(['YEAR', 'MONTH', 'AG_DISTRICT'])\n",
    "#print(\"\\n Average Precipitation: \\n\")\n",
    "#print(groupby_ag_district_month_year['PRECIP'].mean())\n"
   ]
  },
  {
   "cell_type": "code",
   "execution_count": 44,
   "metadata": {},
   "outputs": [
    {
     "name": "stdout",
     "output_type": "stream",
     "text": [
      "\n",
      " Average Precipitation Statistics: \n",
      "\n",
      "                  PRECIP  NUMDAY_RAIN  NUM_DAYS_THNDRSTRM  NUM_DAYS_SNOW  \\\n",
      "AG_DISTRICT                                                                \n",
      "central         2.354067     9.485915            3.656690       2.830986   \n",
      "east            3.731901     9.587922            4.435169       3.120782   \n",
      "east southeast  4.082900     9.791815            4.879004       2.588968   \n",
      "northeast       1.584188     9.079422            4.250903       3.319495   \n",
      "northwest       4.577401     6.129032            3.806452       2.127240   \n",
      "southeast       2.206111     9.792115            4.784946       1.654122   \n",
      "southwest       4.904592     9.998227            4.599291       1.769504   \n",
      "west            2.004545     8.290553            2.944742       2.994652   \n",
      "west southwest  2.215637     9.431559            4.511407       2.346008   \n",
      "\n",
      "                NUM_DAYS_FOG  \n",
      "AG_DISTRICT                   \n",
      "central             2.484155  \n",
      "east                2.607460  \n",
      "east southeast      2.368327  \n",
      "northeast           2.075812  \n",
      "northwest           1.419355  \n",
      "southeast           2.374552  \n",
      "southwest           1.852837  \n",
      "west                1.839572  \n",
      "west southwest      2.131179  \n"
     ]
    },
    {
     "data": {
      "text/plain": [
       "<matplotlib.axes._subplots.AxesSubplot at 0x122672ef0>"
      ]
     },
     "execution_count": 44,
     "metadata": {},
     "output_type": "execute_result"
    },
    {
     "data": {
      "image/png": "[encoded data removed]",
      "text/plain": [
       "<matplotlib.figure.Figure at 0x1226106a0>"
      ]
     },
     "metadata": {},
     "output_type": "display_data"
    }
   ],
   "source": [
    "groupby_ag_district = sample_weather_data.groupby(['AG_DISTRICT'])\n",
    "print(\"\\n Average Precipitation Statistics: \\n\")\n",
    "print(groupby_ag_district['PRECIP', 'NUMDAY_RAIN','NUM_DAYS_THNDRSTRM','NUM_DAYS_SNOW','NUM_DAYS_FOG'].mean())\n",
    "\n",
    "# Plot variables \n",
    "precp_title = \"Avg Precipitation Statistics for all Agricultural Districts between 2000 - 2016\"\n",
    "list = {\"PRECIP\"}\n",
    "groupby_ag_district['PRECIP', 'NUMDAY_RAIN','NUM_DAYS_THNDRSTRM','NUM_DAYS_SNOW','NUM_DAYS_FOG'].mean().plot(kind='bar', title = precp_title, figsize=(17, 9))"
   ]
  },
  {
   "cell_type": "code",
   "execution_count": null,
   "metadata": {
    "collapsed": true
   },
   "outputs": [],
   "source": [
    "groupby_ag_district['PRECIP', 'TMP_AVG','WIND_AVG'].mean().plot(legend=True, kind='bar', title = precp_title, figsize=(9, 4))"
   ]
  },
  {
   "cell_type": "code",
   "execution_count": 10,
   "metadata": {
    "collapsed": true
   },
   "outputs": [],
   "source": [
    "# Selecting all data for a particular AG_District"
   ]
  }
 ],
 "metadata": {
  "kernelspec": {
   "display_name": "Python 3",
   "language": "python",
   "name": "python3"
  },
  "language_info": {
   "codemirror_mode": {
    "name": "ipython",
    "version": 3
   },
   "file_extension": ".py",
   "mimetype": "text/x-python",
   "name": "python",
   "nbconvert_exporter": "python",
   "pygments_lexer": "ipython3",
   "version": "3.6.1"
  }
 },
 "nbformat": 4,
 "nbformat_minor": 2
}

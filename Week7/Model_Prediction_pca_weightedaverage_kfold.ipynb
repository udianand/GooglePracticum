{
 "cells": [
  {
   "cell_type": "markdown",
   "metadata": {},
   "source": [
    "## Model v0.1"
   ]
  },
  {
   "cell_type": "code",
   "execution_count": 1,
   "metadata": {
    "collapsed": true
   },
   "outputs": [],
   "source": [
    "# Library Import\n",
    "%matplotlib inline\n",
    "import numpy as np\n",
    "import matplotlib.pyplot as plt\n",
    "import seaborn as sns\n",
    "import pandas as pd\n",
    "import os\n",
    "\n",
    "# import the train test split\n",
    "from sklearn.model_selection import train_test_split"
   ]
  },
  {
   "cell_type": "code",
   "execution_count": 2,
   "metadata": {
    "collapsed": true
   },
   "outputs": [],
   "source": [
    "# List to store results\n",
    "# Stores the performance on test set.\n",
    "model_results = []\n",
    "#  Stores the name of model\n",
    "model_name = []"
   ]
  },
  {
   "cell_type": "code",
   "execution_count": 3,
   "metadata": {},
   "outputs": [
    {
     "name": "stdout",
     "output_type": "stream",
     "text": [
      "/Users/Shantanu/Downloads\n"
     ]
    }
   ],
   "source": [
    "# Get current working directory\n",
    "cwd = os.getcwd()\n",
    "print(cwd)"
   ]
  },
  {
   "cell_type": "code",
   "execution_count": 4,
   "metadata": {},
   "outputs": [
    {
     "data": {
      "text/html": [
       "<div>\n",
       "<style>\n",
       "    .dataframe thead tr:only-child th {\n",
       "        text-align: right;\n",
       "    }\n",
       "\n",
       "    .dataframe thead th {\n",
       "        text-align: left;\n",
       "    }\n",
       "\n",
       "    .dataframe tbody tr th {\n",
       "        vertical-align: top;\n",
       "    }\n",
       "</style>\n",
       "<table border=\"1\" class=\"dataframe\">\n",
       "  <thead>\n",
       "    <tr style=\"text-align: right;\">\n",
       "      <th></th>\n",
       "      <th>Year</th>\n",
       "      <th>Period</th>\n",
       "      <th>Value</th>\n",
       "    </tr>\n",
       "  </thead>\n",
       "  <tbody>\n",
       "    <tr>\n",
       "      <th>168</th>\n",
       "      <td>2000</td>\n",
       "      <td>JAN</td>\n",
       "      <td>1.97</td>\n",
       "    </tr>\n",
       "    <tr>\n",
       "      <th>169</th>\n",
       "      <td>2000</td>\n",
       "      <td>FEB</td>\n",
       "      <td>2.03</td>\n",
       "    </tr>\n",
       "    <tr>\n",
       "      <th>170</th>\n",
       "      <td>2000</td>\n",
       "      <td>MAY</td>\n",
       "      <td>2.20</td>\n",
       "    </tr>\n",
       "    <tr>\n",
       "      <th>171</th>\n",
       "      <td>2000</td>\n",
       "      <td>JUN</td>\n",
       "      <td>1.89</td>\n",
       "    </tr>\n",
       "  </tbody>\n",
       "</table>\n",
       "</div>"
      ],
      "text/plain": [
       "     Year Period  Value\n",
       "168  2000    JAN   1.97\n",
       "169  2000    FEB   2.03\n",
       "170  2000    MAY   2.20\n",
       "171  2000    JUN   1.89"
      ]
     },
     "execution_count": 4,
     "metadata": {},
     "output_type": "execute_result"
    }
   ],
   "source": [
    "# Uses the input file generated from preprocessing\n",
    "input_file ='input_model_weighted_average.csv'\n",
    "\n",
    "input_data = pd.read_csv(input_file)\n",
    "\n",
    "# Making all column names UPPER CASE --> inline with the weather data file\n",
    "input_data.columns = map(str.upper, input_data.columns)\n",
    "\n",
    "\n",
    "# rename UNNAMED:0 to INDEX\n",
    "#input_data.rename(columns={'UNNAMED: 0': 'INDEX'}, inplace=True)\n",
    "\n",
    "# drop UNNAMED:0.1\n",
    "#input_data = input_data.drop('UNNAMED: 0.1', axis=1)\n",
    "\n",
    "input_data.head()\n",
    "\n",
    "# List of column names\n",
    "col_names = list(input_data)\n",
    "\n",
    "\n",
    "p_update = pd.read_csv('IL_Corn_Price_Updated_1986_2016.csv')\n",
    "p_update['Period'] = pd.Categorical(p_update['Period'], ['JAN', 'FEB', 'MAR', 'APR', 'MAY', 'JUN', 'JUL', 'AUG', 'SEP', 'OCT', 'NOV', 'DEC'])\n",
    "\n",
    "#ps\n",
    "#Risk-free rate for 1986 - 2016 : 9.34% ( 30-year Treasury Constant Maturity Rate at 1986 )\n",
    "# Monthly discount rate = 1/1.000248 \n",
    "\n",
    "p_update = p_update[['Year', 'Period','Value']]\n",
    "price_updated = p_update.dropna(axis=0, how='any')\n",
    "#price_updated = p_update[p_update.Period != 'MARKETING YEAR']\n",
    "\n",
    "price_updated = price_updated.sort_values(['Year', 'Period'])\n",
    "price_updated = price_updated.reset_index(drop=True)\n",
    "#price_updated.iloc[168:174]\n",
    "\n",
    "price_updated = price_updated[~((price_updated.Year == 2000) & ((price_updated.Period == 'MAR') | (price_updated.Period == 'APR')))]\n",
    "price_updated = price_updated.reset_index(drop=True)\n",
    "price_updated.iloc[168:172]\n",
    "# List all column types\n",
    "#input_data.dtypes"
   ]
  },
  {
   "cell_type": "code",
   "execution_count": 5,
   "metadata": {},
   "outputs": [
    {
     "data": {
      "text/plain": [
       "370"
      ]
     },
     "execution_count": 5,
     "metadata": {},
     "output_type": "execute_result"
    }
   ],
   "source": [
    "len(price_updated)"
   ]
  },
  {
   "cell_type": "code",
   "execution_count": 6,
   "metadata": {},
   "outputs": [
    {
     "name": "stdout",
     "output_type": "stream",
     "text": [
      "Shape of Original data: (370, 25)\n",
      "\n",
      "Variables: Index(['TMP_HIGH', 'TMP_AVG', 'TMP_LOW', 'DP_HIGH', 'DP_AVG', 'DP_LOW',\n",
      "       'HUM_HIGH', 'HUM_AVG', 'HUM_LOW', 'SEALVL_HIGH', 'SEALVL_AVG',\n",
      "       'SEALVL_LOW', 'VIS_HIGH', 'VIS_AVG', 'VIS_LOW', 'WIND_HIGH', 'WIND_AVG',\n",
      "       'PRECIP', 'NUMDAY_RAIN', 'NUM_DAYS_SNOW', 'NUM_DAYS_FOG',\n",
      "       'NUM_DAYS_THNDRSTRM'],\n",
      "      dtype='object')\n",
      "\n",
      "Shape of variable data: (370, 22)\n",
      "\n"
     ]
    }
   ],
   "source": [
    "# Preprocessing\n",
    "\n",
    "print(\"Shape of Original data: {}\".format(input_data.shape) + \"\\n\")\n",
    "\n",
    "input_variables = input_data.iloc[:,3:]\n",
    "print(\"Variables: \" + str(input_variables.columns) + \"\\n\")\n",
    "print(\"Shape of variable data: {}\".format(input_variables.shape) + \"\\n\")\n",
    "\n",
    "# # Feature Scaling\n",
    "# from sklearn.preprocessing import StandardScaler\n",
    "# sc = StandardScaler()\n",
    "# input_variables = sc.fit_transform(input_variables)\n",
    "\n",
    "price = price_updated[\"Value\"]"
   ]
  },
  {
   "cell_type": "code",
   "execution_count": 7,
   "metadata": {},
   "outputs": [
    {
     "name": "stdout",
     "output_type": "stream",
     "text": [
      "Index(['UNNAMED: 0', 'YEAR', 'MONTH', 'TMP_HIGH', 'TMP_AVG', 'TMP_LOW',\n",
      "       'DP_HIGH', 'DP_AVG', 'DP_LOW', 'HUM_HIGH', 'HUM_AVG', 'HUM_LOW',\n",
      "       'SEALVL_HIGH', 'SEALVL_AVG', 'SEALVL_LOW', 'VIS_HIGH', 'VIS_AVG',\n",
      "       'VIS_LOW', 'WIND_HIGH', 'WIND_AVG', 'PRECIP', 'NUMDAY_RAIN',\n",
      "       'NUM_DAYS_SNOW', 'NUM_DAYS_FOG', 'NUM_DAYS_THNDRSTRM'],\n",
      "      dtype='object')\n"
     ]
    }
   ],
   "source": [
    "print(input_data.columns)"
   ]
  },
  {
   "cell_type": "code",
   "execution_count": 8,
   "metadata": {},
   "outputs": [
    {
     "name": "stdout",
     "output_type": "stream",
     "text": [
      "(296, 22) (296,)\n",
      "(74, 22) (74,)\n"
     ]
    }
   ],
   "source": [
    "# Splitting Data into Training and Test\n",
    "X_train, X_test, y_train, y_test = train_test_split(input_variables, price, test_size=0.2)\n",
    "print (X_train.shape, y_train.shape)\n",
    "print (X_test.shape, y_test.shape)"
   ]
  },
  {
   "cell_type": "code",
   "execution_count": 9,
   "metadata": {
    "scrolled": true
   },
   "outputs": [
    {
     "name": "stdout",
     "output_type": "stream",
     "text": [
      "[  9.99999837e-01   1.45334219e-07   7.05687180e-09]\n"
     ]
    }
   ],
   "source": [
    "#Applying PCA\n",
    "from sklearn.decomposition import PCA\n",
    "pca = PCA(n_components = 3)\n",
    "X_train = pca.fit_transform(X_train)\n",
    "X_test = pca.transform(X_test)\n",
    "explained_variance = pca.explained_variance_ratio_\n",
    "print(explained_variance)\n"
   ]
  },
  {
   "cell_type": "markdown",
   "metadata": {},
   "source": [
    "## Multiple Linear Regression"
   ]
  },
  {
   "cell_type": "code",
   "execution_count": 10,
   "metadata": {},
   "outputs": [
    {
     "name": "stdout",
     "output_type": "stream",
     "text": [
      "Accuracy of MLR: -0.041890\n",
      "SD of accuracy: 0.102903\n"
     ]
    }
   ],
   "source": [
    "from sklearn.linear_model import LinearRegression\n",
    "regressor = LinearRegression()\n",
    "regressor.fit(X_train, y_train)\n",
    "\n",
    "# Predicting the Test set results\n",
    "y_pred = regressor.predict(X_test)\n",
    "\n",
    "from sklearn.model_selection import cross_val_score\n",
    "accuracies = cross_val_score(estimator = regressor, X = X_train, y = y_train, cv = 10)\n",
    "\n",
    "print(\"Accuracy of MLR: %f\" %accuracies.mean())\n",
    "print (\"SD of accuracy: %f\" %accuracies.std())\n",
    "model_results.append(accuracies.mean())\n",
    "model_name.append(\"MLR\")"
   ]
  },
  {
   "cell_type": "markdown",
   "metadata": {},
   "source": [
    "## Ridge Regression"
   ]
  },
  {
   "cell_type": "code",
   "execution_count": 11,
   "metadata": {},
   "outputs": [
    {
     "name": "stdout",
     "output_type": "stream",
     "text": [
      "Accuracy of Ridge: -0.041889\n",
      "SD of accuracy: 0.102900\n"
     ]
    }
   ],
   "source": [
    "from sklearn.linear_model import Ridge\n",
    "regressor = Ridge()\n",
    "regressor.fit(X_train, y_train)\n",
    "\n",
    "# Predicting the Test set results\n",
    "y_pred = regressor.predict(X_test)\n",
    "\n",
    "from sklearn.model_selection import cross_val_score\n",
    "accuracies = cross_val_score(estimator = regressor, X = X_train, y = y_train, cv = 10)\n",
    "\n",
    "print(\"Accuracy of Ridge: %f\" %accuracies.mean())\n",
    "print (\"SD of accuracy: %f\" %accuracies.std())\n",
    "model_results.append(accuracies.mean())\n",
    "model_name.append(\"Ridge\")"
   ]
  },
  {
   "cell_type": "code",
   "execution_count": 12,
   "metadata": {},
   "outputs": [
    {
     "name": "stdout",
     "output_type": "stream",
     "text": [
      "Accuracy of Ridge_0.1: -0.041890\n",
      "SD of accuracy: 0.102902\n",
      "Accuracy of Ridge_10: -0.041882\n",
      "SD of accuracy: 0.102876\n"
     ]
    }
   ],
   "source": [
    "# Try with some handpicked alpha values\n",
    "# Note: Higher alpha decerease training test performance but increases generalization\n",
    "\n",
    "from sklearn.linear_model import Ridge\n",
    "regressor = Ridge(alpha = 0.1)\n",
    "regressor.fit(X_train, y_train)\n",
    "\n",
    "# Predicting the Test set results\n",
    "y_pred = regressor.predict(X_test)\n",
    "\n",
    "from sklearn.model_selection import cross_val_score\n",
    "accuracies = cross_val_score(estimator = regressor, X = X_train, y = y_train, cv = 10)\n",
    "\n",
    "print(\"Accuracy of Ridge_0.1: %f\" %accuracies.mean())\n",
    "print (\"SD of accuracy: %f\" %accuracies.std())\n",
    "model_results.append(accuracies.mean())\n",
    "model_name.append(\"Ridge_0.1\")\n",
    "\n",
    "\n",
    "from sklearn.linear_model import Ridge\n",
    "regressor = Ridge(alpha = 10)\n",
    "regressor.fit(X_train, y_train)\n",
    "\n",
    "# Predicting the Test set results\n",
    "y_pred = regressor.predict(X_test)\n",
    "\n",
    "from sklearn.model_selection import cross_val_score\n",
    "accuracies = cross_val_score(estimator = regressor, X = X_train, y = y_train, cv = 10)\n",
    "\n",
    "print(\"Accuracy of Ridge_10: %f\" %accuracies.mean())\n",
    "print (\"SD of accuracy: %f\" %accuracies.std())\n",
    "model_results.append(accuracies.mean())\n",
    "model_name.append(\"Ridge_10\")\n",
    "\n"
   ]
  },
  {
   "cell_type": "markdown",
   "metadata": {},
   "source": [
    "## Lasso Regression"
   ]
  },
  {
   "cell_type": "code",
   "execution_count": 13,
   "metadata": {},
   "outputs": [
    {
     "name": "stdout",
     "output_type": "stream",
     "text": [
      "Accuracy of Lasso: -0.042615\n",
      "SD of accuracy: 0.074960\n"
     ]
    }
   ],
   "source": [
    "# we have large number of features and only a few of them looked important\n",
    "from sklearn.linear_model import Lasso\n",
    "regressor = Lasso()\n",
    "regressor.fit(X_train, y_train)\n",
    "\n",
    "# Predicting the Test set results\n",
    "y_pred = regressor.predict(X_test)\n",
    "\n",
    "from sklearn.model_selection import cross_val_score\n",
    "accuracies = cross_val_score(estimator = regressor, X = X_train, y = y_train, cv = 10)\n",
    "\n",
    "print(\"Accuracy of Lasso: %f\" %accuracies.mean())\n",
    "print (\"SD of accuracy: %f\" %accuracies.std())\n",
    "model_results.append(accuracies.mean())\n",
    "model_name.append(\"Lasso\")"
   ]
  },
  {
   "cell_type": "code",
   "execution_count": 14,
   "metadata": {},
   "outputs": [
    {
     "name": "stdout",
     "output_type": "stream",
     "text": [
      "Accuracy of Lasso_0.0001: -0.041889\n",
      "SD of accuracy: 0.102900\n"
     ]
    }
   ],
   "source": [
    "# Setting alpha too low will remove the effect of regularization\n",
    "\n",
    "from sklearn.linear_model import Lasso\n",
    "regressor = Lasso(alpha=0.0001, max_iter=100000)\n",
    "regressor.fit(X_train, y_train)\n",
    "\n",
    "# Predicting the Test set results\n",
    "y_pred = regressor.predict(X_test)\n",
    "\n",
    "from sklearn.model_selection import cross_val_score\n",
    "accuracies = cross_val_score(estimator = regressor, X = X_train, y = y_train, cv = 10)\n",
    "\n",
    "print(\"Accuracy of Lasso_0.0001: %f\" %accuracies.mean())\n",
    "print (\"SD of accuracy: %f\" %accuracies.std())\n",
    "model_results.append(accuracies.mean())\n",
    "model_name.append(\"Lasso_0.0001\")\n",
    "\n"
   ]
  },
  {
   "cell_type": "markdown",
   "metadata": {},
   "source": [
    "## Elastic Net"
   ]
  },
  {
   "cell_type": "code",
   "execution_count": 15,
   "metadata": {},
   "outputs": [
    {
     "name": "stdout",
     "output_type": "stream",
     "text": [
      "Accuracy of Elastic Net: -0.041332\n",
      "SD of accuracy: 0.100794\n"
     ]
    }
   ],
   "source": [
    "from sklearn.linear_model import ElasticNet\n",
    "regressor = ElasticNet(alpha=0.1, l1_ratio=0.7,max_iter = 100000)\n",
    "regressor.fit(X_train, y_train)\n",
    "\n",
    "# Predicting the Test set results\n",
    "y_pred = regressor.predict(X_test)\n",
    "\n",
    "from sklearn.model_selection import cross_val_score\n",
    "accuracies = cross_val_score(estimator = regressor, X = X_train, y = y_train, cv = 10)\n",
    "\n",
    "print(\"Accuracy of Elastic Net: %f\" %accuracies.mean())\n",
    "print (\"SD of accuracy: %f\" %accuracies.std())\n",
    "model_results.append(accuracies.mean())\n",
    "model_name.append(\"Elastic_Net\")\n",
    "\n"
   ]
  },
  {
   "cell_type": "markdown",
   "metadata": {},
   "source": [
    "## Decision Tree"
   ]
  },
  {
   "cell_type": "code",
   "execution_count": 16,
   "metadata": {},
   "outputs": [
    {
     "name": "stdout",
     "output_type": "stream",
     "text": [
      "Accuracy of Decision Tree: -1.109496\n",
      "SD of accuracy: 0.834155\n"
     ]
    }
   ],
   "source": [
    "# Fitting Decision Tree Regression to the dataset\n",
    "\n",
    "from sklearn.tree import DecisionTreeRegressor\n",
    "regressor = DecisionTreeRegressor(random_state = 0)\n",
    "regressor.fit(X_train, y_train)\n",
    "\n",
    "# Predicting the Test set results\n",
    "y_pred = regressor.predict(X_test)\n",
    "\n",
    "from sklearn.model_selection import cross_val_score\n",
    "accuracies = cross_val_score(estimator = regressor, X = X_train, y = y_train, cv = 10)\n",
    "\n",
    "print(\"Accuracy of Decision Tree: %f\" %accuracies.mean())\n",
    "print (\"SD of accuracy: %f\" %accuracies.std())\n",
    "model_results.append(accuracies.mean())\n",
    "model_name.append(\"DT\")\n"
   ]
  },
  {
   "cell_type": "markdown",
   "metadata": {},
   "source": [
    "## Random Forest"
   ]
  },
  {
   "cell_type": "code",
   "execution_count": 17,
   "metadata": {},
   "outputs": [
    {
     "name": "stdout",
     "output_type": "stream",
     "text": [
      "Accuracy of Random Forest 10: -0.162044\n",
      "SD of accuracy: 0.212770\n"
     ]
    }
   ],
   "source": [
    "# Fitting Random Forest Regression to the dataset\n",
    "from sklearn.ensemble import RandomForestRegressor\n",
    "regressor = RandomForestRegressor(n_estimators = 10, random_state = 0)\n",
    "regressor.fit(X_train, y_train)\n",
    "\n",
    "# Predicting the Test set results\n",
    "y_pred = regressor.predict(X_test)\n",
    "\n",
    "from sklearn.model_selection import cross_val_score\n",
    "accuracies = cross_val_score(estimator = regressor, X = X_train, y = y_train, cv = 10)\n",
    "\n",
    "print(\"Accuracy of Random Forest 10: %f\" %accuracies.mean())\n",
    "print (\"SD of accuracy: %f\" %accuracies.std())\n",
    "model_results.append(accuracies.mean())\n",
    "model_name.append(\"RF_10\")"
   ]
  },
  {
   "cell_type": "code",
   "execution_count": 18,
   "metadata": {},
   "outputs": [
    {
     "name": "stdout",
     "output_type": "stream",
     "text": [
      "Accuracy of Random Forest 100: -0.100518\n",
      "SD of accuracy: 0.211905\n"
     ]
    }
   ],
   "source": [
    "# Fitting Random Forest Regression to the dataset\n",
    "from sklearn.ensemble import RandomForestRegressor\n",
    "regressor = RandomForestRegressor(n_estimators = 100, random_state = 0)\n",
    "regressor.fit(X_train, y_train)\n",
    "\n",
    "# Predicting the Test set results\n",
    "y_pred = regressor.predict(X_test)\n",
    "\n",
    "from sklearn.model_selection import cross_val_score\n",
    "accuracies = cross_val_score(estimator = regressor, X = X_train, y = y_train, cv = 10)\n",
    "\n",
    "print(\"Accuracy of Random Forest 100: %f\" %accuracies.mean())\n",
    "print (\"SD of accuracy: %f\" %accuracies.std())\n",
    "model_results.append(accuracies.mean())\n",
    "model_name.append(\"RF_100\")"
   ]
  },
  {
   "cell_type": "code",
   "execution_count": 19,
   "metadata": {
    "scrolled": true
   },
   "outputs": [
    {
     "name": "stdout",
     "output_type": "stream",
     "text": [
      "Accuracy of Random Forest 300: -0.094110\n",
      "SD of accuracy: 0.203734\n"
     ]
    }
   ],
   "source": [
    "# Fitting Random Forest Regression to the dataset\n",
    "from sklearn.ensemble import RandomForestRegressor\n",
    "regressor = RandomForestRegressor(n_estimators = 300, random_state = 0)\n",
    "regressor.fit(X_train, y_train)\n",
    "\n",
    "# Predicting the Test set results\n",
    "y_pred = regressor.predict(X_test)\n",
    "\n",
    "from sklearn.model_selection import cross_val_score\n",
    "accuracies = cross_val_score(estimator = regressor, X = X_train, y = y_train, cv = 10)\n",
    "\n",
    "print(\"Accuracy of Random Forest 300: %f\" %accuracies.mean())\n",
    "print (\"SD of accuracy: %f\" %accuracies.std())\n",
    "model_results.append(accuracies.mean())\n",
    "model_name.append(\"RF_300\")"
   ]
  },
  {
   "cell_type": "markdown",
   "metadata": {},
   "source": [
    "### Plot Results of regression models"
   ]
  },
  {
   "cell_type": "code",
   "execution_count": 20,
   "metadata": {
    "scrolled": false
   },
   "outputs": [
    {
     "data": {
      "image/png": "[encoded data removed]",
      "text/plain": [
       "<matplotlib.figure.Figure at 0x10ef90cf8>"
      ]
     },
     "metadata": {},
     "output_type": "display_data"
    }
   ],
   "source": [
    "from matplotlib import cm\n",
    "import random\n",
    "\n",
    "# Give each bar separate color\n",
    "color_code_vector = random.sample(range(1, 100), len(model_name))\n",
    "reg_color_code_vector = map(lambda x: x/max(color_code_vector), color_code_vector)\n",
    "reg_color_code_vector = list(reg_color_code_vector)\n",
    "reg_color_code_vector\n",
    "colors = cm.hsv(reg_color_code_vector)\n",
    "\n",
    "# Expressing accuracy in percentage\n",
    "model_results_percentage = list(map(lambda x: x*100, model_results))\n",
    "\n",
    "y_pos = np.arange(len(model_name))\n",
    "\n",
    "plt.rcdefaults() # white background, gets rid of gray\n",
    "plt.figure(figsize = (30,15))\n",
    "plt.bar(y_pos, model_results_percentage, align='center', alpha=0.5, width=0.4, color = colors)\n",
    "plt.xticks(y_pos, model_name, fontsize = 12)\n",
    "plt.ylabel('Accuracy in perecentage', fontsize=20)\n",
    "plt.title('Accuracy: Regression Models', fontsize=22, fontweight='bold')\n",
    "plt.show()"
   ]
  },
  {
   "cell_type": "code",
   "execution_count": null,
   "metadata": {
    "collapsed": true
   },
   "outputs": [],
   "source": []
  }
 ],
 "metadata": {
  "kernelspec": {
   "display_name": "Python 3",
   "language": "python",
   "name": "python3"
  },
  "language_info": {
   "codemirror_mode": {
    "name": "ipython",
    "version": 3
   },
   "file_extension": ".py",
   "mimetype": "text/x-python",
   "name": "python",
   "nbconvert_exporter": "python",
   "pygments_lexer": "ipython3",
   "version": "3.6.2"
  }
 },
 "nbformat": 4,
 "nbformat_minor": 2
}

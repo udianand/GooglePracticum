{
 "cells": [
  {
   "cell_type": "code",
   "execution_count": 1,
   "metadata": {
    "collapsed": true
   },
   "outputs": [],
   "source": [
    "# Library Import\n",
    "%matplotlib inline\n",
    "import numpy as np\n",
    "import matplotlib.pyplot as plt\n",
    "from matplotlib.backends.backend_pdf import PdfPages\n",
    "import pandas as pd\n",
    "import os"
   ]
  },
  {
   "cell_type": "code",
   "execution_count": 2,
   "metadata": {},
   "outputs": [
    {
     "name": "stdout",
     "output_type": "stream",
     "text": [
      "/Users/uditanand/Desktop/Github/GooglePracticum/Data/Maize\n"
     ]
    }
   ],
   "source": [
    "# Get current working directory\n",
    "cwd = os.getcwd()\n",
    "print(cwd)"
   ]
  },
  {
   "cell_type": "code",
   "execution_count": 3,
   "metadata": {},
   "outputs": [
    {
     "name": "stdout",
     "output_type": "stream",
     "text": [
      "      STATE AG_DISTRICT      COUNTY COMMODITY     VALUE\n",
      "0  illinois     central      mclean      corn  63008000\n",
      "1  illinois     central       logan      corn  41005000\n",
      "2  illinois     central       macon      corn  30430000\n",
      "3  illinois        east    iroquois      corn  62773000\n",
      "4  illinois        east  livingston      corn  54632000\n",
      " \n",
      " Agricultural Districts: \n",
      "\n",
      "['central', 'east', 'east southeast', 'northeast', 'northwest', 'southeast', 'southwest', 'west', 'west southwest']\n"
     ]
    }
   ],
   "source": [
    "# Import Names of counties from file\n",
    "#maize_data_dir = cwd + '/Data/Maize/'\n",
    "#IL_county_data = maize_data_dir + 'County_Names_IL.csv'\n",
    "\n",
    "IL_county_data = 'County_Name_IL_updated.csv'\n",
    "county_data = pd.read_csv(IL_county_data)\n",
    "\n",
    "# rename Ag district to Ag_District\n",
    "county_data.rename(columns={'Ag District': 'Ag_District'}, inplace=True)\n",
    "\n",
    "# making all column names UPPER CASE --> inline with the weather data file\n",
    "county_data.columns = map(str.upper, county_data.columns)\n",
    "\n",
    "# making COUNTY, STATE, AG DISTRICT, COMMODITY data lower case\n",
    "# CAN BE MADE FASTER WITH A LAMBDA FUNCTION\n",
    "county_data.STATE = county_data.STATE.str.lower()\n",
    "county_data.AG_DISTRICT = county_data.AG_DISTRICT.str.lower()\n",
    "county_data.COUNTY = county_data.COUNTY.str.lower() \n",
    "county_data.COMMODITY = county_data.COMMODITY.str.lower()\n",
    "\n",
    "print(county_data.head())\n",
    "\n",
    "# Print name of unique districts\n",
    "ag_district_list = list(county_data['AG_DISTRICT'].unique())\n",
    "print(\" \\n Agricultural Districts: \\n\")\n",
    "print(ag_district_list)"
   ]
  },
  {
   "cell_type": "code",
   "execution_count": 4,
   "metadata": {},
   "outputs": [
    {
     "name": "stdout",
     "output_type": "stream",
     "text": [
      "central\n",
      "0    mclean\n",
      "1     logan\n",
      "2     macon\n",
      "Name: COUNTY, dtype: object\n",
      "\n",
      "\n",
      "east\n",
      "3      iroquois\n",
      "4    livingston\n",
      "5     champaign\n",
      "Name: COUNTY, dtype: object\n",
      "\n",
      "\n",
      "east southeast\n",
      "6     shelby\n",
      "7      edgar\n",
      "8    douglas\n",
      "Name: COUNTY, dtype: object\n",
      "\n",
      "\n",
      "northeast\n",
      "9     la salle\n",
      "10     de kalb\n",
      "11      grundy\n",
      "Name: COUNTY, dtype: object\n",
      "\n",
      "\n",
      "northwest\n",
      "12    bureau\n",
      "13      ogle\n",
      "14       lee\n",
      "Name: COUNTY, dtype: object\n",
      "\n",
      "\n",
      "southeast\n",
      "15       white\n",
      "16       wayne\n",
      "17    gallatin\n",
      "Name: COUNTY, dtype: object\n",
      "\n",
      "\n",
      "southwest\n",
      "18    washington\n",
      "19      st clair\n",
      "20       clinton\n",
      "Name: COUNTY, dtype: object\n",
      "\n",
      "\n",
      "west\n",
      "21       knox\n",
      "22    hancock\n",
      "23     warren\n",
      "Name: COUNTY, dtype: object\n",
      "\n",
      "\n",
      "west southwest\n",
      "24     sangamon\n",
      "25    christian\n",
      "26     macoupin\n",
      "Name: COUNTY, dtype: object\n",
      "\n",
      "\n"
     ]
    }
   ],
   "source": [
    "# Group counties belonging to a particular agricultural district and store them in a dictionary\n",
    "\n",
    "district_county_dict = {}\n",
    "\n",
    "for district in ag_district_list:\n",
    "    county_in_ag_district = county_data[(county_data['AG_DISTRICT'] == district)] \n",
    "    county_in_ag_district = county_in_ag_district['COUNTY']\n",
    "    district_county_dict[district] = county_in_ag_district\n",
    "\n",
    "# Print the dictionary, Structure {Region_1: County_1, County_2 ,... ; Region_2: County_1, County_2.. }\n",
    "for key,values in district_county_dict.items():\n",
    "    print(key)\n",
    "    print(values)\n",
    "    print(\"\\n\")"
   ]
  },
  {
   "cell_type": "code",
   "execution_count": 5,
   "metadata": {},
   "outputs": [
    {
     "ename": "FileNotFoundError",
     "evalue": "File b'weather_data.csv' does not exist",
     "output_type": "error",
     "traceback": [
      "\u001b[0;31m---------------------------------------------------------------------------\u001b[0m",
      "\u001b[0;31mFileNotFoundError\u001b[0m                         Traceback (most recent call last)",
      "\u001b[0;32m<ipython-input-5-025582e2a12c>\u001b[0m in \u001b[0;36m<module>\u001b[0;34m()\u001b[0m\n\u001b[1;32m      3\u001b[0m \u001b[0;31m#sample_weather_file = weather_data_dir + 'weather_data.csv'\u001b[0m\u001b[0;34m\u001b[0m\u001b[0;34m\u001b[0m\u001b[0m\n\u001b[1;32m      4\u001b[0m \u001b[0msample_weather_file\u001b[0m \u001b[0;34m=\u001b[0m \u001b[0;34m'weather_data.csv'\u001b[0m\u001b[0;34m\u001b[0m\u001b[0m\n\u001b[0;32m----> 5\u001b[0;31m \u001b[0msample_weather_data\u001b[0m \u001b[0;34m=\u001b[0m \u001b[0mpd\u001b[0m\u001b[0;34m.\u001b[0m\u001b[0mread_csv\u001b[0m\u001b[0;34m(\u001b[0m\u001b[0msample_weather_file\u001b[0m\u001b[0;34m)\u001b[0m\u001b[0;34m\u001b[0m\u001b[0m\n\u001b[0m\u001b[1;32m      6\u001b[0m \u001b[0;34m\u001b[0m\u001b[0m\n\u001b[1;32m      7\u001b[0m \u001b[0mprint\u001b[0m\u001b[0;34m(\u001b[0m\u001b[0;34m\"\\n Column Information \\n\"\u001b[0m\u001b[0;34m)\u001b[0m\u001b[0;34m\u001b[0m\u001b[0m\n",
      "\u001b[0;32m/anaconda/lib/python3.6/site-packages/pandas/io/parsers.py\u001b[0m in \u001b[0;36mparser_f\u001b[0;34m(filepath_or_buffer, sep, delimiter, header, names, index_col, usecols, squeeze, prefix, mangle_dupe_cols, dtype, engine, converters, true_values, false_values, skipinitialspace, skiprows, nrows, na_values, keep_default_na, na_filter, verbose, skip_blank_lines, parse_dates, infer_datetime_format, keep_date_col, date_parser, dayfirst, iterator, chunksize, compression, thousands, decimal, lineterminator, quotechar, quoting, escapechar, comment, encoding, dialect, tupleize_cols, error_bad_lines, warn_bad_lines, skipfooter, skip_footer, doublequote, delim_whitespace, as_recarray, compact_ints, use_unsigned, low_memory, buffer_lines, memory_map, float_precision)\u001b[0m\n\u001b[1;32m    653\u001b[0m                     skip_blank_lines=skip_blank_lines)\n\u001b[1;32m    654\u001b[0m \u001b[0;34m\u001b[0m\u001b[0m\n\u001b[0;32m--> 655\u001b[0;31m         \u001b[0;32mreturn\u001b[0m \u001b[0m_read\u001b[0m\u001b[0;34m(\u001b[0m\u001b[0mfilepath_or_buffer\u001b[0m\u001b[0;34m,\u001b[0m \u001b[0mkwds\u001b[0m\u001b[0;34m)\u001b[0m\u001b[0;34m\u001b[0m\u001b[0m\n\u001b[0m\u001b[1;32m    656\u001b[0m \u001b[0;34m\u001b[0m\u001b[0m\n\u001b[1;32m    657\u001b[0m     \u001b[0mparser_f\u001b[0m\u001b[0;34m.\u001b[0m\u001b[0m__name__\u001b[0m \u001b[0;34m=\u001b[0m \u001b[0mname\u001b[0m\u001b[0;34m\u001b[0m\u001b[0m\n",
      "\u001b[0;32m/anaconda/lib/python3.6/site-packages/pandas/io/parsers.py\u001b[0m in \u001b[0;36m_read\u001b[0;34m(filepath_or_buffer, kwds)\u001b[0m\n\u001b[1;32m    403\u001b[0m \u001b[0;34m\u001b[0m\u001b[0m\n\u001b[1;32m    404\u001b[0m     \u001b[0;31m# Create the parser.\u001b[0m\u001b[0;34m\u001b[0m\u001b[0;34m\u001b[0m\u001b[0m\n\u001b[0;32m--> 405\u001b[0;31m     \u001b[0mparser\u001b[0m \u001b[0;34m=\u001b[0m \u001b[0mTextFileReader\u001b[0m\u001b[0;34m(\u001b[0m\u001b[0mfilepath_or_buffer\u001b[0m\u001b[0;34m,\u001b[0m \u001b[0;34m**\u001b[0m\u001b[0mkwds\u001b[0m\u001b[0;34m)\u001b[0m\u001b[0;34m\u001b[0m\u001b[0m\n\u001b[0m\u001b[1;32m    406\u001b[0m \u001b[0;34m\u001b[0m\u001b[0m\n\u001b[1;32m    407\u001b[0m     \u001b[0;32mif\u001b[0m \u001b[0mchunksize\u001b[0m \u001b[0;32mor\u001b[0m \u001b[0miterator\u001b[0m\u001b[0;34m:\u001b[0m\u001b[0;34m\u001b[0m\u001b[0m\n",
      "\u001b[0;32m/anaconda/lib/python3.6/site-packages/pandas/io/parsers.py\u001b[0m in \u001b[0;36m__init__\u001b[0;34m(self, f, engine, **kwds)\u001b[0m\n\u001b[1;32m    760\u001b[0m             \u001b[0mself\u001b[0m\u001b[0;34m.\u001b[0m\u001b[0moptions\u001b[0m\u001b[0;34m[\u001b[0m\u001b[0;34m'has_index_names'\u001b[0m\u001b[0;34m]\u001b[0m \u001b[0;34m=\u001b[0m \u001b[0mkwds\u001b[0m\u001b[0;34m[\u001b[0m\u001b[0;34m'has_index_names'\u001b[0m\u001b[0;34m]\u001b[0m\u001b[0;34m\u001b[0m\u001b[0m\n\u001b[1;32m    761\u001b[0m \u001b[0;34m\u001b[0m\u001b[0m\n\u001b[0;32m--> 762\u001b[0;31m         \u001b[0mself\u001b[0m\u001b[0;34m.\u001b[0m\u001b[0m_make_engine\u001b[0m\u001b[0;34m(\u001b[0m\u001b[0mself\u001b[0m\u001b[0;34m.\u001b[0m\u001b[0mengine\u001b[0m\u001b[0;34m)\u001b[0m\u001b[0;34m\u001b[0m\u001b[0m\n\u001b[0m\u001b[1;32m    763\u001b[0m \u001b[0;34m\u001b[0m\u001b[0m\n\u001b[1;32m    764\u001b[0m     \u001b[0;32mdef\u001b[0m \u001b[0mclose\u001b[0m\u001b[0;34m(\u001b[0m\u001b[0mself\u001b[0m\u001b[0;34m)\u001b[0m\u001b[0;34m:\u001b[0m\u001b[0;34m\u001b[0m\u001b[0m\n",
      "\u001b[0;32m/anaconda/lib/python3.6/site-packages/pandas/io/parsers.py\u001b[0m in \u001b[0;36m_make_engine\u001b[0;34m(self, engine)\u001b[0m\n\u001b[1;32m    964\u001b[0m     \u001b[0;32mdef\u001b[0m \u001b[0m_make_engine\u001b[0m\u001b[0;34m(\u001b[0m\u001b[0mself\u001b[0m\u001b[0;34m,\u001b[0m \u001b[0mengine\u001b[0m\u001b[0;34m=\u001b[0m\u001b[0;34m'c'\u001b[0m\u001b[0;34m)\u001b[0m\u001b[0;34m:\u001b[0m\u001b[0;34m\u001b[0m\u001b[0m\n\u001b[1;32m    965\u001b[0m         \u001b[0;32mif\u001b[0m \u001b[0mengine\u001b[0m \u001b[0;34m==\u001b[0m \u001b[0;34m'c'\u001b[0m\u001b[0;34m:\u001b[0m\u001b[0;34m\u001b[0m\u001b[0m\n\u001b[0;32m--> 966\u001b[0;31m             \u001b[0mself\u001b[0m\u001b[0;34m.\u001b[0m\u001b[0m_engine\u001b[0m \u001b[0;34m=\u001b[0m \u001b[0mCParserWrapper\u001b[0m\u001b[0;34m(\u001b[0m\u001b[0mself\u001b[0m\u001b[0;34m.\u001b[0m\u001b[0mf\u001b[0m\u001b[0;34m,\u001b[0m \u001b[0;34m**\u001b[0m\u001b[0mself\u001b[0m\u001b[0;34m.\u001b[0m\u001b[0moptions\u001b[0m\u001b[0;34m)\u001b[0m\u001b[0;34m\u001b[0m\u001b[0m\n\u001b[0m\u001b[1;32m    967\u001b[0m         \u001b[0;32melse\u001b[0m\u001b[0;34m:\u001b[0m\u001b[0;34m\u001b[0m\u001b[0m\n\u001b[1;32m    968\u001b[0m             \u001b[0;32mif\u001b[0m \u001b[0mengine\u001b[0m \u001b[0;34m==\u001b[0m \u001b[0;34m'python'\u001b[0m\u001b[0;34m:\u001b[0m\u001b[0;34m\u001b[0m\u001b[0m\n",
      "\u001b[0;32m/anaconda/lib/python3.6/site-packages/pandas/io/parsers.py\u001b[0m in \u001b[0;36m__init__\u001b[0;34m(self, src, **kwds)\u001b[0m\n\u001b[1;32m   1580\u001b[0m         \u001b[0mkwds\u001b[0m\u001b[0;34m[\u001b[0m\u001b[0;34m'allow_leading_cols'\u001b[0m\u001b[0;34m]\u001b[0m \u001b[0;34m=\u001b[0m \u001b[0mself\u001b[0m\u001b[0;34m.\u001b[0m\u001b[0mindex_col\u001b[0m \u001b[0;32mis\u001b[0m \u001b[0;32mnot\u001b[0m \u001b[0;32mFalse\u001b[0m\u001b[0;34m\u001b[0m\u001b[0m\n\u001b[1;32m   1581\u001b[0m \u001b[0;34m\u001b[0m\u001b[0m\n\u001b[0;32m-> 1582\u001b[0;31m         \u001b[0mself\u001b[0m\u001b[0;34m.\u001b[0m\u001b[0m_reader\u001b[0m \u001b[0;34m=\u001b[0m \u001b[0mparsers\u001b[0m\u001b[0;34m.\u001b[0m\u001b[0mTextReader\u001b[0m\u001b[0;34m(\u001b[0m\u001b[0msrc\u001b[0m\u001b[0;34m,\u001b[0m \u001b[0;34m**\u001b[0m\u001b[0mkwds\u001b[0m\u001b[0;34m)\u001b[0m\u001b[0;34m\u001b[0m\u001b[0m\n\u001b[0m\u001b[1;32m   1583\u001b[0m \u001b[0;34m\u001b[0m\u001b[0m\n\u001b[1;32m   1584\u001b[0m         \u001b[0;31m# XXX\u001b[0m\u001b[0;34m\u001b[0m\u001b[0;34m\u001b[0m\u001b[0m\n",
      "\u001b[0;32mpandas/_libs/parsers.pyx\u001b[0m in \u001b[0;36mpandas._libs.parsers.TextReader.__cinit__ (pandas/_libs/parsers.c:4209)\u001b[0;34m()\u001b[0m\n",
      "\u001b[0;32mpandas/_libs/parsers.pyx\u001b[0m in \u001b[0;36mpandas._libs.parsers.TextReader._setup_parser_source (pandas/_libs/parsers.c:8873)\u001b[0;34m()\u001b[0m\n",
      "\u001b[0;31mFileNotFoundError\u001b[0m: File b'weather_data.csv' does not exist"
     ]
    }
   ],
   "source": [
    "# Import weather data file\n",
    "#weather_data_dir = cwd + '/Data/Weather/'\n",
    "#sample_weather_file = weather_data_dir + 'weather_data.csv'\n",
    "sample_weather_file = 'weather_data.csv'\n",
    "sample_weather_data = pd.read_csv(sample_weather_file)\n",
    "\n",
    "print(\"\\n Column Information \\n\")\n",
    "print(sample_weather_data.columns.all)"
   ]
  },
  {
   "cell_type": "code",
   "execution_count": null,
   "metadata": {
    "collapsed": true
   },
   "outputs": [],
   "source": [
    "# Append corresponding AGRICULTURAL DISTRICT to COUNTY\n",
    "sample_weather_data['AG_DISTRICT'] = \"Dummy\"\n",
    "sample_weather_data.drop('Unnamed: 0', axis=1, inplace=True)\n",
    "\n",
    "# reorder the AG_DISTRICT to become the first column\n",
    "colnames = sample_weather_data.columns.tolist()\n",
    "colnames = colnames[-1:] + colnames[:-1]\n",
    "sample_weather_data = sample_weather_data[colnames]\n",
    "\n",
    "county_names_list = list(county_data['COUNTY'].unique())\n",
    "\n",
    "for county in county_names_list:\n",
    "    county_district = county_data[(county_data['COUNTY'] == county)] \n",
    "    county_district = county_district['AG_DISTRICT']\n",
    "    \n",
    "    selected_county = sample_weather_data[(sample_weather_data['COUNTY'] == county)]\n",
    "    \n",
    "    sample_weather_data.loc[sample_weather_data['COUNTY'] == county, 'AG_DISTRICT'] = county_district.values\n",
    "\n",
    "sample_weather_data = sample_weather_data[sample_weather_data.AG_DISTRICT != 'Dummy']\n",
    "sample_weather_data.loc[:,['AG_DISTRICT','COUNTY']].head()\n",
    "sample_weather_data.head()\n",
    "\n",
    "#print(sample_weather_data.columns.all)\n",
    "\n",
    "#sample_weather_data.iloc[:,5:26]\n"
   ]
  },
  {
   "cell_type": "code",
   "execution_count": null,
   "metadata": {
    "collapsed": true
   },
   "outputs": [],
   "source": [
    "months = list(sample_weather_data['MONTH'].unique())\n",
    "months"
   ]
  },
  {
   "cell_type": "code",
   "execution_count": null,
   "metadata": {
    "collapsed": true
   },
   "outputs": [],
   "source": [
    "groupby_ag_district = sample_weather_data.groupby(['YEAR', 'MONTH','AG_DISTRICT'])\n",
    "sample_data = groupby_ag_district['NUMDAY_RAIN', 'NUM_DAYS_SNOW', 'NUM_DAYS_THNDRSTRM','NUM_DAYS_SNOW','NUM_DAYS_FOG','PRECIP'].sum()\n",
    "\n",
    "# Writes to Excel\n",
    "# writer = pd.ExcelWriter('pandas_simple.xlsx', engine='xlsxwriter')\n",
    "# Convert the dataframe to an XlsxWriter Excel object.\n",
    "# sample_data.to_excel(writer, sheet_name='Sheet1')\n",
    "# Close the Pandas Excel writer and output the Excel file.\n",
    "# writer.save()\n",
    "\n",
    "#sample_data.iloc[:9]\n",
    "#sample_data['AG_DISTRICT' == 'Dummy']\n",
    "sample_data.iloc[:,:]"
   ]
  },
  {
   "cell_type": "code",
   "execution_count": null,
   "metadata": {
    "collapsed": true
   },
   "outputs": [],
   "source": [
    "# Precipitation is measured in inches.\n",
    "\n",
    "start_year = min(sample_weather_data['YEAR'])\n",
    "end_year = max(sample_weather_data['YEAR'])\n",
    "\n",
    "# end year + 1 to get it to 2016\n",
    "for year in range(start_year, end_year+1):\n",
    "    groupby_yearly = sample_weather_data[sample_weather_data['YEAR'] == year].groupby(['AG_DISTRICT', 'YEAR'])\n",
    "    groupby_yearly_ppt_data = groupby_yearly['PRECIP'].sum()\n",
    "    \n",
    "    print(groupby_yearly_ppt_data.head())\n",
    "    print(\"\\n\")\n",
    "    #groupby_yearly_ppt_data = groupby_yearly_ppt_data/3\n",
    "    #print(groupby_yearly_ppt_data.head())\n",
    "    #print(\"\\n\")\n",
    "    \n",
    "    # Calculate average precipitation for the given year\n",
    "    size = groupby_yearly_ppt_data.count()\n",
    "    average_precipitation = sum(groupby_yearly_ppt_data.iloc[:size].values)/(size)\n",
    "    \n",
    "    # Plotting Code\n",
    "    precp_yearly_title = str(year) + \": Total Precipitation received across various districts (in inches).\"\n",
    "    line_label = \"Average Precipitation for the year \" + str(year) \n",
    "    \n",
    "    plt.figure(figsize=(15,7))\n",
    "    plt.suptitle(precp_yearly_title, fontsize=16, fontweight='bold')\n",
    "    ax1 = groupby_yearly_ppt_data.plot(kind='bar', label ='Precipitation')\n",
    "    ax2 = plt.hlines(average_precipitation,-2,10, colors='r', linestyles='solid', label=line_label)\n",
    "    plt.xticks(rotation=45)\n",
    "    plt.ylabel('Inches', fontsize=16)\n",
    "    plt.xlabel('Agricultural Districts', fontsize=16)\n",
    "    plt.legend()\n",
    "    #plt.savefig(\"results.jpg\")\n",
    "    plt.show()\n",
    "    \n",
    "    # 2008 validation\n",
    "    # http://www.isws.illinois.edu/atmos/statecli/climate-change/NE-IL-trends/rainfall.htm"
   ]
  },
  {
   "cell_type": "code",
   "execution_count": null,
   "metadata": {
    "collapsed": true
   },
   "outputs": [],
   "source": [
    "start_year = min(sample_weather_data['YEAR'])\n",
    "end_year = max(sample_weather_data['YEAR'])\n",
    "\n",
    "# end year + 1 to get it to 2016\n",
    "for year in range(start_year, end_year+1):\n",
    "    groupby_yearly = sample_weather_data[sample_weather_data['YEAR'] == year].groupby(['AG_DISTRICT', 'YEAR'])\n",
    "    groupby_yearly_ppt_data = groupby_yearly['NUMDAY_RAIN', 'NUM_DAYS_SNOW', 'NUM_DAYS_THNDRSTRM'].sum()\n",
    "    \n",
    "    print(groupby_yearly_ppt_data.head())\n",
    "    print(\"\\n\")\n",
    "\n",
    "    # Plotting Code\n",
    "    rainfall_yearly_title = str(year) + \": Total Rainfall, Snowfall, Thunderstorm received across various districts\"\n",
    "\n",
    "    ax = groupby_yearly_ppt_data.plot(kind='bar', figsize=(15, 7))\n",
    "    ax.set_title(rainfall_yearly_title, fontsize=16, fontweight='bold')\n",
    "    plt.xticks(rotation=45)\n",
    "    plt.ylabel('Number of Days', fontsize=14)\n",
    "    plt.xlabel('Agricultural Districts', fontsize=14)\n",
    "    plt.legend()\n",
    "    plt.show()\n",
    "    #plt.savefig(\"results.jpg\")"
   ]
  },
  {
   "cell_type": "code",
   "execution_count": null,
   "metadata": {
    "collapsed": true
   },
   "outputs": [],
   "source": [
    "start_year = min(sample_weather_data['YEAR'])\n",
    "end_year = max(sample_weather_data['YEAR'])\n",
    "end_year = end_year +1\n",
    "\n",
    "#cols = ['YEAR','TMP_HIGH', 'TMP_AVG',\n",
    "#       'TMP_LOW', 'DP_HIGH', 'DP_AVG', 'DP_LOW', 'HUM_HIGH', 'HUM_AVG',\n",
    "#       'HUM_LOW', 'SEALVL_HIGH', 'SEALVL_AVG', 'SEALVL_LOW', 'VIS_HIGH',\n",
    "#       'VIS_AVG', 'VIS_LOW', 'WIND_HIGH', 'WIND_AVG', 'PRECIP', 'NUMDAY_RAIN',\n",
    "#       'NUM_DAYS_SNOW', 'NUM_DAYS_FOG', 'NUM_DAYS_THNDRSTRM']\n",
    "\n",
    "#model = pd.DataFrame(columns = cols)\n",
    "model = pd.DataFrame()\n",
    "\n",
    "# end year + 1 to get it to 2016\n",
    "for year in range(start_year, end_year+1):\n",
    "    groupby_yearly = sample_weather_data[sample_weather_data['YEAR'] == year].groupby(['AG_DISTRICT', 'YEAR', 'MONTH'])\n",
    "    groupby_yearly_ppt_data = groupby_yearly['TMP_HIGH', 'TMP_AVG',\n",
    "       'TMP_LOW', 'DP_HIGH', 'DP_AVG', 'DP_LOW', 'HUM_HIGH', 'HUM_AVG',\n",
    "       'HUM_LOW', 'SEALVL_HIGH', 'SEALVL_AVG', 'SEALVL_LOW', 'VIS_HIGH',\n",
    "       'VIS_AVG', 'VIS_LOW', 'WIND_HIGH', 'WIND_AVG', 'PRECIP'].mean()\n",
    "    groupby_yearly_ppt_data['NUMDAY_RAIN'] = groupby_yearly['NUMDAY_RAIN'].sum()\n",
    "    groupby_yearly_ppt_data['NUM_DAYS_SNOW'] = groupby_yearly['NUM_DAYS_SNOW'].sum()\n",
    "    groupby_yearly_ppt_data['NUM_DAYS_FOG'] = groupby_yearly['NUM_DAYS_FOG'].sum()\n",
    "    groupby_yearly_ppt_data['NUM_DAYS_THNDRSTRM'] = groupby_yearly['NUM_DAYS_THNDRSTRM'].sum()\n",
    "    model = model.append(groupby_yearly_ppt_data)\n",
    "    \n",
    "    #print(groupby_yearly_ppt_data)\n",
    "    #print(\"\\n\")\n",
    "\n",
    "print(model)\n",
    "model.to_csv('model.csv')"
   ]
  },
  {
   "cell_type": "code",
   "execution_count": null,
   "metadata": {
    "collapsed": true
   },
   "outputs": [],
   "source": [
    "df = pd.read_csv('model.csv')\n",
    "#print(df)\n",
    "\n",
    "cols = [ 'YEAR', 'MONTH' , 'TMP_HIGH', 'TMP_AVG', 'TMP_LOW', 'DP_HIGH',\n",
    "       'DP_AVG', 'DP_LOW', 'HUM_HIGH', 'HUM_AVG', 'HUM_LOW', 'SEALVL_HIGH',\n",
    "       'SEALVL_AVG', 'SEALVL_LOW', 'VIS_HIGH', 'VIS_AVG', 'VIS_LOW',\n",
    "       'WIND_HIGH', 'WIND_AVG', 'PRECIP', 'NUMDAY_RAIN', 'NUM_DAYS_SNOW',\n",
    "       'NUM_DAYS_FOG', 'NUM_DAYS_THNDRSTRM']\n",
    "\n",
    "x = []\n",
    "\n",
    "for year in range(start_year, end_year):\n",
    "    df_temp = df[df['YEAR'] == year]\n",
    "    for m in months:\n",
    "        df_new = df_temp[df_temp['MONTH'] == m]\n",
    "        temp = list(df_new[['YEAR','TMP_HIGH', 'TMP_AVG', 'TMP_LOW', 'DP_HIGH',\n",
    "       'DP_AVG', 'DP_LOW', 'HUM_HIGH', 'HUM_AVG', 'HUM_LOW', 'SEALVL_HIGH',\n",
    "       'SEALVL_AVG', 'SEALVL_LOW', 'VIS_HIGH', 'VIS_AVG', 'VIS_LOW',\n",
    "       'WIND_HIGH', 'WIND_AVG', 'PRECIP', 'NUMDAY_RAIN', 'NUM_DAYS_SNOW',\n",
    "       'NUM_DAYS_FOG', 'NUM_DAYS_THNDRSTRM']].mean())\n",
    "        temp.insert(1, m)\n",
    "        x.append(temp)\n",
    "        \n",
    "final = pd.DataFrame(x, columns = cols)\n",
    "final.insert(0, 'STATE', 'IL')\n",
    "final.YEAR = final.YEAR.astype(int)\n",
    "final.NUMDAY_RAIN = final.NUMDAY_RAIN.astype(int)\n",
    "final.NUM_DAYS_SNOW = final.NUM_DAYS_SNOW.astype(int)\n",
    "final.NUM_DAYS_FOG = final.NUM_DAYS_FOG.astype(int)\n",
    "final.NUM_DAYS_THNDRSTRM = final.NUM_DAYS_THNDRSTRM.astype(int)\n",
    "print (final)\n",
    "\n",
    "final.to_csv('final_yearly.csv')"
   ]
  },
  {
   "cell_type": "code",
   "execution_count": null,
   "metadata": {
    "collapsed": true
   },
   "outputs": [],
   "source": [
    "final_yearly = pd.read_csv('final_yearly.csv')\n",
    "final_yearly\n",
    "\n",
    "price_yearly = pd.read_csv('IL_Corn_Yearly_Month.csv')\n",
    "price_yearly['Period'] = pd.Categorical(price_yearly['Period'], ['JAN', 'FEB', 'MAR', 'ARP', 'MAY', 'JUN', 'JUL', 'AUG', 'SEP', 'OCT', 'NOV', 'DEC'])\n",
    "ps = price_yearly[['Year', 'Period','Value']]\n",
    "\n",
    "ps = ps.sort_values(['Year', 'Period'])\n",
    "ps = ps.reset_index(drop=True)\n",
    "\n",
    "#print (ps)\n",
    "#print (ps['Value'])\n",
    "\n",
    "final_yearly['Price'] = ps['Value']\n",
    "print (final_yearly.head())\n",
    "final_yearly.to_csv('input_model.csv')\n"
   ]
  },
  {
   "cell_type": "code",
   "execution_count": null,
   "metadata": {
    "collapsed": true
   },
   "outputs": [],
   "source": [
    "input_model = pd.read_csv('input_model.csv')\n",
    "input_model.drop('Unnamed: 0', axis=1, inplace=True)\n",
    "input_model.drop('Unnamed: 0.1', axis=1, inplace=True)\n",
    "input_model"
   ]
  }
 ],
 "metadata": {
  "kernelspec": {
   "display_name": "Python 3",
   "language": "python",
   "name": "python3"
  },
  "language_info": {
   "codemirror_mode": {
    "name": "ipython",
    "version": 3
   },
   "file_extension": ".py",
   "mimetype": "text/x-python",
   "name": "python",
   "nbconvert_exporter": "python",
   "pygments_lexer": "ipython3",
   "version": "3.6.1"
  }
 },
 "nbformat": 4,
 "nbformat_minor": 2
}

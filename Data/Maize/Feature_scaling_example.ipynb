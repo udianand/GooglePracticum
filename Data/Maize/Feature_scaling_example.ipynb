{
 "cells": [
  {
   "cell_type": "code",
   "execution_count": 57,
   "metadata": {
    "collapsed": true
   },
   "outputs": [],
   "source": [
    "# Library Import\n",
    "%matplotlib inline \n",
    "from sklearn.preprocessing import StandardScaler\n",
    "from sklearn.preprocessing import LabelEncoder, OneHotEncoder\n",
    "\n",
    "import numpy as np\n",
    "import matplotlib.pyplot as plt\n",
    "import pandas as pd\n",
    "import os"
   ]
  },
  {
   "cell_type": "code",
   "execution_count": 58,
   "metadata": {},
   "outputs": [
    {
     "name": "stdout",
     "output_type": "stream",
     "text": [
      "/Users/siddharthbhaduri/Desktop/Work/Fall-2017/Google-Project/Week4\n"
     ]
    }
   ],
   "source": [
    "# Get current working directory\n",
    "cwd = os.getcwd()\n",
    "print(cwd)"
   ]
  },
  {
   "cell_type": "code",
   "execution_count": 86,
   "metadata": {},
   "outputs": [
    {
     "name": "stdout",
     "output_type": "stream",
     "text": [
      "       COUNTY  YEAR MONTH  TMP_HIGH    TMP_AVG  TMP_LOW  DP_HIGH     DP_AVG  \\\n",
      "0   champaign  2016   JAN        61  27.419355        0       52  21.225806   \n",
      "1   champaign  2016   FEB        70  33.379310        4       58  25.413793   \n",
      "2   champaign  2016   MAR        75  47.741935       15       62  38.741935   \n",
      "3   champaign  2016   ARP        86  52.666667       24       62  41.133333   \n",
      "4   champaign  2016   MAY        89  62.838710       38       69  49.967742   \n",
      "5   champaign  2016   JUN        94  74.600000       50       77  61.300000   \n",
      "6   champaign  2016   JUL        90  74.677419       52       80  67.806452   \n",
      "7   champaign  2016   AUG        90  75.419355       54       78  68.677419   \n",
      "8   champaign  2016   SEP        92  71.066667       49       75  60.666667   \n",
      "9   champaign  2016   OCT        87  61.032258       33       66  50.258065   \n",
      "10  champaign  2016   NOV        81  47.600000       22       63  39.133333   \n",
      "\n",
      "    DP_LOW  HUM_HIGH         ...          VIS_HIGH   VIS_AVG  VIS_LOW  \\\n",
      "0       -7       100         ...                10  8.516129        0   \n",
      "1       -5       100         ...                10  8.310345        0   \n",
      "2       10       100         ...                10  8.709677        0   \n",
      "3       13       100         ...                10  8.366667        0   \n",
      "4       25       100         ...                10  9.064516        0   \n",
      "5       41       100         ...                10  9.300000        0   \n",
      "6       48       100         ...                10  8.193548        0   \n",
      "7       39       100         ...                10  8.322581        0   \n",
      "8       30       100         ...                10  8.666667        0   \n",
      "9       30       100         ...                10  9.258065        0   \n",
      "10      17       100         ...                10  8.733333        0   \n",
      "\n",
      "    WIND_HIGH   WIND_AVG  PRECIP  NUMDAY_RAIN  NUM_DAYS_SNOW  NUM_DAYS_FOG  \\\n",
      "0          37  12.903226   0.885            5              9             5   \n",
      "1          43  13.172414   0.860            7              7             5   \n",
      "2          36  12.322581   3.065           13              1             4   \n",
      "3          47  11.800000   3.285           12              1             4   \n",
      "4          37  10.645161   2.545           17              0             2   \n",
      "5          31   8.433333   5.195            7              0             3   \n",
      "6          35   6.741935   4.820           12              0             8   \n",
      "7          28   6.193548   4.005           12              0             5   \n",
      "8          28   7.666667   6.155           12              0             5   \n",
      "9          35  10.096774   2.175            8              0             2   \n",
      "10         36  10.566667   2.865            9              0             2   \n",
      "\n",
      "    NUM_DAYS_THNDRSTRM  \n",
      "0                    0  \n",
      "1                    1  \n",
      "2                    3  \n",
      "3                    4  \n",
      "4                    6  \n",
      "5                    5  \n",
      "6                   10  \n",
      "7                    7  \n",
      "8                    6  \n",
      "9                    5  \n",
      "10                   2  \n",
      "\n",
      "[11 rows x 25 columns]\n",
      "       COUNTY  YEAR MONTH  TMP_HIGH   TMP_AVG   TMP_LOW   DP_HIGH    DP_AVG  \\\n",
      "0   champaign  2016     3  -2.23693  -1.85063  -1.67141  -1.78052  -1.71865   \n",
      "1   champaign  2016     2  -1.32932  -1.47941  -1.45574  -1.08926  -1.44643   \n",
      "2   champaign  2016     6 -0.825098 -0.584814 -0.862662 -0.628419 -0.580072   \n",
      "3   champaign  2016     0    0.2842 -0.278071 -0.377415 -0.628419 -0.424627   \n",
      "4   champaign  2016     7  0.586736  0.355508  0.377415  0.178052  0.149626   \n",
      "5   champaign  2016     5   1.09096   1.08808   1.02441   1.09973  0.886244   \n",
      "6   champaign  2016     4  0.687582    1.0929   1.13224   1.44536   1.30917   \n",
      "7   champaign  2016     1  0.687582   1.13911   1.24008   1.21494   1.36579   \n",
      "8   champaign  2016    10  0.889272  0.867997  0.970495  0.869313  0.845076   \n",
      "9   champaign  2016     9  0.385046  0.242991  0.107833 -0.167578  0.168498   \n",
      "10  champaign  2016     8 -0.220026 -0.593654 -0.485247 -0.513209  -0.55463   \n",
      "\n",
      "      DP_LOW HUM_HIGH        ...         VIS_HIGH    VIS_AVG VIS_LOW  \\\n",
      "0   -1.67341        0        ...                0  -0.434839       0   \n",
      "1   -1.55764        0        ...                0  -0.992805       0   \n",
      "2  -0.689359        0        ...                0  0.0899509       0   \n",
      "3  -0.515704        0        ...                0  -0.840093       0   \n",
      "4   0.178918        0        ...                0    1.05207       0   \n",
      "5    1.10508        0        ...                0    1.69056       0   \n",
      "6    1.51028        0        ...                0   -1.30949       0   \n",
      "7   0.989309        0        ...                0  -0.959628       0   \n",
      "8   0.468343        0        ...                0  -0.026669       0   \n",
      "9   0.468343        0        ...                0    1.57686       0   \n",
      "10 -0.284163        0        ...                0   0.154092       0   \n",
      "\n",
      "    WIND_HIGH   WIND_AVG     PRECIP NUMDAY_RAIN NUM_DAYS_SNOW NUM_DAYS_FOG  \\\n",
      "0    0.233723    1.21341   -1.47787    -1.62024       2.41174     0.525588   \n",
      "1     1.33556    1.32786   -1.49343    -1.01608        1.7567     0.525588   \n",
      "2   0.0500835   0.966536  -0.121081    0.796391     -0.208422   -0.0525588   \n",
      "3     2.07012   0.744349  0.0158424    0.494312     -0.208422   -0.0525588   \n",
      "4    0.233723   0.253344  -0.444719     2.00471     -0.535942     -1.20885   \n",
      "5   -0.868115  -0.687065    1.20459    -1.01608     -0.535942    -0.630706   \n",
      "6   -0.133556    -1.4062   0.971195    0.494312     -0.535942      2.26003   \n",
      "7    -1.41903   -1.63936   0.463956    0.494312     -0.535942     0.525588   \n",
      "8    -1.41903   -1.01303    1.80207    0.494312     -0.535942     0.525588   \n",
      "9   -0.133556  0.0201845  -0.674999   -0.714006     -0.535942     -1.20885   \n",
      "10  0.0500835    0.21997  -0.245557   -0.411926     -0.535942     -1.20885   \n",
      "\n",
      "   NUM_DAYS_THNDRSTRM  \n",
      "0            -1.62433  \n",
      "1            -1.25969  \n",
      "2           -0.530395  \n",
      "3           -0.165748  \n",
      "4            0.563545  \n",
      "5            0.198898  \n",
      "6             2.02213  \n",
      "7            0.928191  \n",
      "8            0.563545  \n",
      "9            0.198898  \n",
      "10          -0.895041  \n",
      "\n",
      "[11 rows x 25 columns]\n"
     ]
    },
    {
     "name": "stderr",
     "output_type": "stream",
     "text": [
      "//anaconda/lib/python3.6/site-packages/sklearn/utils/validation.py:444: DataConversionWarning: Data with input dtype object was converted to float64 by StandardScaler.\n",
      "  warnings.warn(msg, DataConversionWarning)\n"
     ]
    }
   ],
   "source": [
    "# Importing dataset\n",
    "\n",
    "df = pd.read_csv('weather_data_example.csv')\n",
    "df = df.drop(df.columns[[0]], axis=1)\n",
    "\n",
    "print (df)\n",
    "c_names = list(df.columns.values)\n",
    "\n",
    "X = df.iloc[:].values\n",
    "\n",
    "labelencoder_X = LabelEncoder()\n",
    "X[:,2] = labelencoder_X.fit_transform(X[:,2]) \n",
    "\n",
    "\n",
    "sc_X = StandardScaler()\n",
    "X[:,3:] = sc_X.fit_transform(X[:,3:] )\n",
    "df = pd.DataFrame(X)\n",
    "df.columns = c_names\n",
    "\n",
    "print (df)\n",
    "df.to_csv('feature_scaled_weather_example.csv')"
   ]
  }
 ],
 "metadata": {
  "kernelspec": {
   "display_name": "Python 3",
   "language": "python",
   "name": "python3"
  },
  "language_info": {
   "codemirror_mode": {
    "name": "ipython",
    "version": 3
   },
   "file_extension": ".py",
   "mimetype": "text/x-python",
   "name": "python",
   "nbconvert_exporter": "python",
   "pygments_lexer": "ipython3",
   "version": "3.6.2"
  }
 },
 "nbformat": 4,
 "nbformat_minor": 2
}
